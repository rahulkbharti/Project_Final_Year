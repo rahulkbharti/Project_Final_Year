{
 "cells": [
  {
   "cell_type": "code",
   "execution_count": null,
   "id": "44531eb4",
   "metadata": {},
   "outputs": [],
   "source": [
    "args = {\n",
    "    \"bos_id\": 0,  # Beginning of sentence token ID\n",
    "    \"eos_id\": 1,  # End of sentence token ID\n",
    "    \"question\": 2,  # Question token ID\n",
    "    \"answer\": 3,  # Answer token ID\n",
    "    \"max_length\": 512,  # Maximum length of the input sequence\n",
    "    \"pad_id\": 4,  # Padding token ID\n",
    "}\n",
    "from torch.utils.data import Dataset\n",
    "class DialogueDataset(Dataset): # create your customdataset\n",
    "    def __init__(self,dataset):\n",
    "        self.input_ids = []\n",
    "        self.token_type_ids = []\n",
    "        self.labels = []\n",
    "        self._prepare_data(dataset)\n",
    "\n",
    "    def __len__(self):\n",
    "        return len(self.input_ids)\n",
    "\n",
    "    def __getitem__(self, idx):\n",
    "        return self.input_ids[idx], self.token_type_ids[idx], self.labels[idx]\n",
    "\n",
    "    def _prepare_data(self,dataset):\n",
    "        print(\"Loading train Data...\")\n",
    "        for data in dataset:\n",
    "            input_ids =[args[\"bos_id\"],args[\"Context\"] +  data['context'] + args[\"question\"]]+data[\"question\"] +[args['answer']]+ data[\"answer\"] +[args[\"eos_id\"]]\n",
    "            token_type_ids = [0] *(len(args[\"Context\"])+(len(data[\"question\"])) + 3) + [1] * (len(data[\"answer\"]) + 1)\n",
    "            labels = [-100] *(len(args[\"Context\"])+(len(data[\"question\"])) + 3) + data[\"answer\"] +[args[\"eos_id\"]]\n",
    "            \n",
    "            self.input_ids.append(input_ids)\n",
    "            self.token_type_ids.append(token_type_ids)\n",
    "            self.labels.append(labels)\n"
   ]
  }
 ],
 "metadata": {
  "language_info": {
   "name": "python"
  }
 },
 "nbformat": 4,
 "nbformat_minor": 5
}
