{
 "cells": [
  {
   "cell_type": "code",
   "execution_count": 1,
   "id": "6aa06466",
   "metadata": {},
   "outputs": [
    {
     "name": "stdout",
     "output_type": "stream",
     "text": [
      "Requirement already satisfied: datasets in c:\\users\\rk225\\documents\\project_college\\college-chatbot-v3\\venv\\lib\\site-packages (3.6.0)\n",
      "Requirement already satisfied: filelock in c:\\users\\rk225\\documents\\project_college\\college-chatbot-v3\\venv\\lib\\site-packages (from datasets) (3.18.0)\n",
      "Requirement already satisfied: numpy>=1.17 in c:\\users\\rk225\\documents\\project_college\\college-chatbot-v3\\venv\\lib\\site-packages (from datasets) (2.2.5)\n",
      "Requirement already satisfied: pyarrow>=15.0.0 in c:\\users\\rk225\\documents\\project_college\\college-chatbot-v3\\venv\\lib\\site-packages (from datasets) (20.0.0)\n",
      "Requirement already satisfied: dill<0.3.9,>=0.3.0 in c:\\users\\rk225\\documents\\project_college\\college-chatbot-v3\\venv\\lib\\site-packages (from datasets) (0.3.8)\n",
      "Requirement already satisfied: pandas in c:\\users\\rk225\\documents\\project_college\\college-chatbot-v3\\venv\\lib\\site-packages (from datasets) (2.2.3)\n",
      "Requirement already satisfied: requests>=2.32.2 in c:\\users\\rk225\\documents\\project_college\\college-chatbot-v3\\venv\\lib\\site-packages (from datasets) (2.32.3)\n",
      "Requirement already satisfied: tqdm>=4.66.3 in c:\\users\\rk225\\documents\\project_college\\college-chatbot-v3\\venv\\lib\\site-packages (from datasets) (4.67.1)\n",
      "Requirement already satisfied: xxhash in c:\\users\\rk225\\documents\\project_college\\college-chatbot-v3\\venv\\lib\\site-packages (from datasets) (3.5.0)\n",
      "Requirement already satisfied: multiprocess<0.70.17 in c:\\users\\rk225\\documents\\project_college\\college-chatbot-v3\\venv\\lib\\site-packages (from datasets) (0.70.16)\n",
      "Requirement already satisfied: fsspec<=2025.3.0,>=2023.1.0 in c:\\users\\rk225\\documents\\project_college\\college-chatbot-v3\\venv\\lib\\site-packages (from fsspec[http]<=2025.3.0,>=2023.1.0->datasets) (2025.3.0)\n",
      "Requirement already satisfied: huggingface-hub>=0.24.0 in c:\\users\\rk225\\documents\\project_college\\college-chatbot-v3\\venv\\lib\\site-packages (from datasets) (0.30.2)\n",
      "Requirement already satisfied: packaging in c:\\users\\rk225\\documents\\project_college\\college-chatbot-v3\\venv\\lib\\site-packages (from datasets) (25.0)\n",
      "Requirement already satisfied: pyyaml>=5.1 in c:\\users\\rk225\\documents\\project_college\\college-chatbot-v3\\venv\\lib\\site-packages (from datasets) (6.0.2)\n",
      "Requirement already satisfied: aiohttp!=4.0.0a0,!=4.0.0a1 in c:\\users\\rk225\\documents\\project_college\\college-chatbot-v3\\venv\\lib\\site-packages (from fsspec[http]<=2025.3.0,>=2023.1.0->datasets) (3.11.18)\n",
      "Requirement already satisfied: typing-extensions>=3.7.4.3 in c:\\users\\rk225\\documents\\project_college\\college-chatbot-v3\\venv\\lib\\site-packages (from huggingface-hub>=0.24.0->datasets) (4.13.2)\n",
      "Requirement already satisfied: charset-normalizer<4,>=2 in c:\\users\\rk225\\documents\\project_college\\college-chatbot-v3\\venv\\lib\\site-packages (from requests>=2.32.2->datasets) (3.4.2)\n",
      "Requirement already satisfied: idna<4,>=2.5 in c:\\users\\rk225\\documents\\project_college\\college-chatbot-v3\\venv\\lib\\site-packages (from requests>=2.32.2->datasets) (3.10)\n",
      "Requirement already satisfied: urllib3<3,>=1.21.1 in c:\\users\\rk225\\documents\\project_college\\college-chatbot-v3\\venv\\lib\\site-packages (from requests>=2.32.2->datasets) (2.4.0)\n",
      "Requirement already satisfied: certifi>=2017.4.17 in c:\\users\\rk225\\documents\\project_college\\college-chatbot-v3\\venv\\lib\\site-packages (from requests>=2.32.2->datasets) (2025.4.26)\n",
      "Requirement already satisfied: colorama in c:\\users\\rk225\\documents\\project_college\\college-chatbot-v3\\venv\\lib\\site-packages (from tqdm>=4.66.3->datasets) (0.4.6)\n",
      "Requirement already satisfied: python-dateutil>=2.8.2 in c:\\users\\rk225\\documents\\project_college\\college-chatbot-v3\\venv\\lib\\site-packages (from pandas->datasets) (2.9.0.post0)\n",
      "Requirement already satisfied: pytz>=2020.1 in c:\\users\\rk225\\documents\\project_college\\college-chatbot-v3\\venv\\lib\\site-packages (from pandas->datasets) (2025.2)\n",
      "Requirement already satisfied: tzdata>=2022.7 in c:\\users\\rk225\\documents\\project_college\\college-chatbot-v3\\venv\\lib\\site-packages (from pandas->datasets) (2025.2)\n",
      "Requirement already satisfied: aiohappyeyeballs>=2.3.0 in c:\\users\\rk225\\documents\\project_college\\college-chatbot-v3\\venv\\lib\\site-packages (from aiohttp!=4.0.0a0,!=4.0.0a1->fsspec[http]<=2025.3.0,>=2023.1.0->datasets) (2.6.1)\n",
      "Requirement already satisfied: aiosignal>=1.1.2 in c:\\users\\rk225\\documents\\project_college\\college-chatbot-v3\\venv\\lib\\site-packages (from aiohttp!=4.0.0a0,!=4.0.0a1->fsspec[http]<=2025.3.0,>=2023.1.0->datasets) (1.3.2)\n",
      "Requirement already satisfied: attrs>=17.3.0 in c:\\users\\rk225\\documents\\project_college\\college-chatbot-v3\\venv\\lib\\site-packages (from aiohttp!=4.0.0a0,!=4.0.0a1->fsspec[http]<=2025.3.0,>=2023.1.0->datasets) (25.3.0)\n",
      "Requirement already satisfied: frozenlist>=1.1.1 in c:\\users\\rk225\\documents\\project_college\\college-chatbot-v3\\venv\\lib\\site-packages (from aiohttp!=4.0.0a0,!=4.0.0a1->fsspec[http]<=2025.3.0,>=2023.1.0->datasets) (1.6.0)\n",
      "Requirement already satisfied: multidict<7.0,>=4.5 in c:\\users\\rk225\\documents\\project_college\\college-chatbot-v3\\venv\\lib\\site-packages (from aiohttp!=4.0.0a0,!=4.0.0a1->fsspec[http]<=2025.3.0,>=2023.1.0->datasets) (6.4.3)\n",
      "Requirement already satisfied: propcache>=0.2.0 in c:\\users\\rk225\\documents\\project_college\\college-chatbot-v3\\venv\\lib\\site-packages (from aiohttp!=4.0.0a0,!=4.0.0a1->fsspec[http]<=2025.3.0,>=2023.1.0->datasets) (0.3.1)\n",
      "Requirement already satisfied: yarl<2.0,>=1.17.0 in c:\\users\\rk225\\documents\\project_college\\college-chatbot-v3\\venv\\lib\\site-packages (from aiohttp!=4.0.0a0,!=4.0.0a1->fsspec[http]<=2025.3.0,>=2023.1.0->datasets) (1.20.0)\n",
      "Requirement already satisfied: six>=1.5 in c:\\users\\rk225\\documents\\project_college\\college-chatbot-v3\\venv\\lib\\site-packages (from python-dateutil>=2.8.2->pandas->datasets) (1.17.0)\n"
     ]
    },
    {
     "name": "stderr",
     "output_type": "stream",
     "text": [
      "WARNING: Retrying (Retry(total=4, connect=None, read=None, redirect=None, status=None)) after connection broken by 'ReadTimeoutError(\"HTTPSConnectionPool(host='pypi.org', port=443): Read timed out. (read timeout=15)\")': /simple/datasets/\n",
      "WARNING: Retrying (Retry(total=3, connect=None, read=None, redirect=None, status=None)) after connection broken by 'ReadTimeoutError(\"HTTPSConnectionPool(host='pypi.org', port=443): Read timed out. (read timeout=15)\")': /simple/datasets/\n",
      "WARNING: Retrying (Retry(total=2, connect=None, read=None, redirect=None, status=None)) after connection broken by 'ReadTimeoutError(\"HTTPSConnectionPool(host='pypi.org', port=443): Read timed out. (read timeout=15)\")': /simple/datasets/\n",
      "\n",
      "[notice] A new release of pip is available: 24.2 -> 25.1.1\n",
      "[notice] To update, run: python.exe -m pip install --upgrade pip\n"
     ]
    }
   ],
   "source": [
    "!pip install --upgrade datasets"
   ]
  },
  {
   "cell_type": "code",
   "execution_count": null,
   "id": "c91eb8ca",
   "metadata": {},
   "outputs": [
    {
     "name": "stderr",
     "output_type": "stream",
     "text": [
      "c:\\Users\\rk225\\Documents\\Project_College\\college-chatbot-v3\\venv\\Lib\\site-packages\\huggingface_hub\\file_download.py:144: UserWarning: `huggingface_hub` cache-system uses symlinks by default to efficiently store duplicated files but your machine does not support them in C:\\Users\\rk225\\.cache\\huggingface\\hub\\datasets--ms_marco. Caching files will still work but in a degraded version that might require more space on your disk. This warning can be disabled by setting the `HF_HUB_DISABLE_SYMLINKS_WARNING` environment variable. For more details, see https://huggingface.co/docs/huggingface_hub/how-to-cache#limitations.\n",
      "To support symlinks on Windows, you either need to activate Developer Mode or to run Python as an administrator. In order to activate developer mode, see this article: https://docs.microsoft.com/en-us/windows/apps/get-started/enable-your-device-for-development\n",
      "  warnings.warn(message)\n"
     ]
    }
   ],
   "source": [
    "from datasets import load_dataset\n",
    "dataset = load_dataset(\"ms_marco\", 'v2.1')"
   ]
  },
  {
   "cell_type": "code",
   "execution_count": null,
   "id": "cdeb7b04",
   "metadata": {},
   "outputs": [],
   "source": [
    "dataset"
   ]
  },
  {
   "cell_type": "code",
   "execution_count": null,
   "id": "aab5ab58",
   "metadata": {},
   "outputs": [],
   "source": [
    "dataset['train'][0]['query']"
   ]
  },
  {
   "cell_type": "code",
   "execution_count": null,
   "id": "90b72987",
   "metadata": {},
   "outputs": [],
   "source": [
    "dataset['train'][0]['answers']"
   ]
  },
  {
   "cell_type": "code",
   "execution_count": null,
   "id": "1814d0f9",
   "metadata": {},
   "outputs": [],
   "source": [
    "dataset['train'][0]['passages']['is_selected']"
   ]
  },
  {
   "cell_type": "code",
   "execution_count": null,
   "id": "ca852139",
   "metadata": {},
   "outputs": [],
   "source": [
    "dataset['train'][0]['passages']['passage_text'][0]"
   ]
  },
  {
   "cell_type": "code",
   "execution_count": null,
   "id": "0565678c",
   "metadata": {},
   "outputs": [],
   "source": [
    "from tqdm.auto import tqdm\n",
    "def data_preparations(raw_data):\n",
    "    preocess_data =[]\n",
    "    for data in tqdm(raw_data):\n",
    "        context = \"\"\n",
    "        for idx,is_selected in enumerate(data['passages']['is_selected']):\n",
    "            if(is_selected == 1):\n",
    "                context = data['passages']['passage_text'][idx]\n",
    "                break\n",
    "        question = data['query']\n",
    "        answer = data['answers'][0]\n",
    "\n",
    "        preocess_data.append({'context': context, 'question': question, 'answer': answer})\n",
    "    return preocess_data"
   ]
  },
  {
   "cell_type": "code",
   "execution_count": null,
   "id": "d8279ec1",
   "metadata": {},
   "outputs": [],
   "source": [
    "data = data_preparations(dataset['validation'])"
   ]
  },
  {
   "cell_type": "code",
   "execution_count": null,
   "id": "222c6f46",
   "metadata": {},
   "outputs": [],
   "source": [
    "data[0]"
   ]
  },
  {
   "cell_type": "code",
   "execution_count": null,
   "id": "9cc04c4b",
   "metadata": {},
   "outputs": [],
   "source": [
    "data = [data for data in data if data['context'] != '']"
   ]
  },
  {
   "cell_type": "code",
   "execution_count": null,
   "id": "72f6e3cb",
   "metadata": {},
   "outputs": [],
   "source": [
    "# Function to calculate average word count in text\n",
    "def avg_word_count(text):\n",
    "    return len(text.split())\n",
    "\n",
    "avg_context = [avg_word_count(data['context']) for data in data]\n",
    "avg_question = [avg_word_count(data['question']) for data in data]\n",
    "avg_answer = [avg_word_count(data['answer']) for data in data]\n",
    "\n",
    "# Calculate the average\n",
    "avg_context = sum(avg_context) / len(avg_context)\n",
    "avg_question = sum(avg_question) / len(avg_question)\n",
    "avg_answer = sum(avg_answer) / len(avg_answer)\n",
    "\n",
    "print(f\"Average word count in context: {avg_context}\")\n",
    "print(f\"Average word count in question: {avg_question}\")\n",
    "print(f\"Average word count in answer: {avg_answer}\")\n"
   ]
  },
  {
   "cell_type": "code",
   "execution_count": null,
   "id": "75833afb",
   "metadata": {},
   "outputs": [],
   "source": [
    "# prompt: save thise in json\n",
    "import json\n",
    "with open('processed_data.json', 'w') as f:\n",
    "    json.dump(data, f, indent=2)\n",
    "\n",
    "print(\"Data saved to processed_data.json\")"
   ]
  }
 ],
 "metadata": {
  "kernelspec": {
   "display_name": "venv",
   "language": "python",
   "name": "python3"
  },
  "language_info": {
   "codemirror_mode": {
    "name": "ipython",
    "version": 3
   },
   "file_extension": ".py",
   "mimetype": "text/x-python",
   "name": "python",
   "nbconvert_exporter": "python",
   "pygments_lexer": "ipython3",
   "version": "3.12.7"
  }
 },
 "nbformat": 4,
 "nbformat_minor": 5
}
