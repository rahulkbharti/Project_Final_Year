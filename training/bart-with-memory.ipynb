{
 "cells": [
  {
   "cell_type": "markdown",
   "metadata": {
    "id": "LTfxYpXBypCr"
   },
   "source": [
    "# Step 1 Load Dataset"
   ]
  },
  {
   "cell_type": "code",
   "execution_count": 1,
   "metadata": {
    "colab": {
     "base_uri": "https://localhost:8080/"
    },
    "execution": {
     "iopub.execute_input": "2025-06-01T08:05:42.923639Z",
     "iopub.status.busy": "2025-06-01T08:05:42.923176Z",
     "iopub.status.idle": "2025-06-01T08:05:42.958684Z",
     "shell.execute_reply": "2025-06-01T08:05:42.957956Z",
     "shell.execute_reply.started": "2025-06-01T08:05:42.923615Z"
    },
    "id": "YR4YV4k8yl20",
    "outputId": "039c2f00-cd16-4833-a587-c87f3c40dd57",
    "trusted": true
   },
   "outputs": [
    {
     "data": {
      "text/plain": [
       "{'context': \"Aishwarya's father Krishnaraj Rai's funeral held, celebs pay last respects. Actress Aishwarya Rai Bachchan 's father Krishnaraj Rai passed away recently at a suburban hospital in Mumbai. Rai was hospitalised a few weeks ago and later shifted to the ICU. The funeral took place at Vile Parle Seva Sansthan Shamshan Bhoomi where Aishwarya's father-in-law Amitabh Bachchan also offered prayers.\",\n",
       " 'question': 'aishwarya rai father',\n",
       " 'answer': 'Krishnaraj Rai'}"
      ]
     },
     "execution_count": 1,
     "metadata": {},
     "output_type": "execute_result"
    }
   ],
   "source": [
    "import json\n",
    "with open('/kaggle/input/ms-micro-dataset/train_ms_micro.json', 'r') as f:\n",
    "    train_data = json.load(f)\n",
    "train_data[0]"
   ]
  },
  {
   "cell_type": "code",
   "execution_count": 2,
   "metadata": {
    "colab": {
     "base_uri": "https://localhost:8080/"
    },
    "execution": {
     "iopub.execute_input": "2025-06-01T08:05:44.538027Z",
     "iopub.status.busy": "2025-06-01T08:05:44.537756Z",
     "iopub.status.idle": "2025-06-01T08:05:44.542981Z",
     "shell.execute_reply": "2025-06-01T08:05:44.542361Z",
     "shell.execute_reply.started": "2025-06-01T08:05:44.537988Z"
    },
    "id": "9DOb5NTO1hzK",
    "outputId": "ec68d9b3-11b2-4730-e966-e638b3f748a3",
    "trusted": true
   },
   "outputs": [
    {
     "data": {
      "text/plain": [
       "3138"
      ]
     },
     "execution_count": 2,
     "metadata": {},
     "output_type": "execute_result"
    }
   ],
   "source": [
    "len(train_data)"
   ]
  },
  {
   "cell_type": "code",
   "execution_count": 3,
   "metadata": {
    "execution": {
     "iopub.execute_input": "2025-06-01T08:05:47.272959Z",
     "iopub.status.busy": "2025-06-01T08:05:47.272485Z",
     "iopub.status.idle": "2025-06-01T08:05:47.293448Z",
     "shell.execute_reply": "2025-06-01T08:05:47.292907Z",
     "shell.execute_reply.started": "2025-06-01T08:05:47.272939Z"
    },
    "trusted": true
   },
   "outputs": [
    {
     "data": {
      "text/plain": [
       "{'context': 'Card definition, a usually rectangular piece of stiff paper, thin pasteboard, or plastic for various uses, as to write information on or printed as a means of identifying the holder: a 3″ × 5″ file card; a membership card. See more.',\n",
       " 'question': 'cards meaning',\n",
       " 'answer': 'Card means usually rectangular piece of stiff paper, thin pasteboard, or plastic for various uses, as to write information on or printed as a means of identifying the holder.'}"
      ]
     },
     "execution_count": 3,
     "metadata": {},
     "output_type": "execute_result"
    }
   ],
   "source": [
    "import json\n",
    "with open('/kaggle/input/ms-micro-dataset/valid_ms_micro.json', 'r') as f:\n",
    "    valid_data = json.load(f)\n",
    "valid_data[0]"
   ]
  },
  {
   "cell_type": "code",
   "execution_count": 4,
   "metadata": {
    "execution": {
     "iopub.execute_input": "2025-06-01T08:05:49.441010Z",
     "iopub.status.busy": "2025-06-01T08:05:49.440517Z",
     "iopub.status.idle": "2025-06-01T08:05:49.445647Z",
     "shell.execute_reply": "2025-06-01T08:05:49.444967Z",
     "shell.execute_reply.started": "2025-06-01T08:05:49.440973Z"
    },
    "trusted": true
   },
   "outputs": [
    {
     "data": {
      "text/plain": [
       "1097"
      ]
     },
     "execution_count": 4,
     "metadata": {},
     "output_type": "execute_result"
    }
   ],
   "source": [
    "len(valid_data)"
   ]
  },
  {
   "cell_type": "markdown",
   "metadata": {
    "id": "0nZUpXLVy2E4"
   },
   "source": [
    "# Step 2: Load tokenizer"
   ]
  },
  {
   "cell_type": "code",
   "execution_count": 21,
   "metadata": {
    "execution": {
     "iopub.execute_input": "2025-06-01T08:18:56.456857Z",
     "iopub.status.busy": "2025-06-01T08:18:56.456372Z",
     "iopub.status.idle": "2025-06-01T08:18:56.464185Z",
     "shell.execute_reply": "2025-06-01T08:18:56.463598Z",
     "shell.execute_reply.started": "2025-06-01T08:18:56.456833Z"
    },
    "id": "mJf28a91y5NY",
    "trusted": true
   },
   "outputs": [],
   "source": [
    "import numpy as np\n",
    "import random\n",
    "import torch\n",
    "seed = 42\n",
    "np.random.seed(seed)\n",
    "torch.manual_seed(seed)\n",
    "torch.cuda.manual_seed_all(seed)\n",
    "random.seed(seed)"
   ]
  },
  {
   "cell_type": "code",
   "execution_count": 22,
   "metadata": {
    "execution": {
     "iopub.execute_input": "2025-06-01T08:18:56.921523Z",
     "iopub.status.busy": "2025-06-01T08:18:56.920911Z",
     "iopub.status.idle": "2025-06-01T08:18:56.924781Z",
     "shell.execute_reply": "2025-06-01T08:18:56.923892Z",
     "shell.execute_reply.started": "2025-06-01T08:18:56.921502Z"
    },
    "id": "HmjNqcYa6rbR",
    "trusted": true
   },
   "outputs": [],
   "source": [
    "from transformers import BartTokenizer, BartForConditionalGeneration"
   ]
  },
  {
   "cell_type": "code",
   "execution_count": 23,
   "metadata": {
    "colab": {
     "base_uri": "https://localhost:8080/",
     "height": 269,
     "referenced_widgets": [
      "53d1dd36ba794c06a5d3356cb64da8cb",
      "9c368a69fd3743418a399195957706da",
      "b4184fbbe14c44ecbcf6d55508248bc1",
      "24e0cce1638b4bf49ff7e940e2f4d80a",
      "c8b5458bf3264127a24f335d91893794",
      "aa1b063a2ed34a5f9c47b756cef12811",
      "cbc82931a1044c0f9fdeace96b10cdf3",
      "053a50d4118b4bff8ae9af1640f1d998",
      "77f298bcb3e046e19d5ef542e2e510ba",
      "2921cb6fdc0c4994ac0580d371fe446c",
      "5a345abefd284970b2479c51bd760b6c",
      "fa6b2fcc180b4e7b8d45b31089fd2a3e",
      "c2c231b29afb430e9a89ac32b8234062",
      "94cbb2cf029448c0b950fd0d517ed538",
      "eec139cdca484ce890d8a573e695bbef",
      "1861063b57b046a4bba50415a35eec18",
      "420c19b9fcff4ecf94f751d983dfdc88",
      "f003f396d29649b6928641cdbc7c9fcf",
      "f682f48e0a73469a9aa8b0b25fcfffb5",
      "2039270b02d344dbb7e25e0098e8a9b2",
      "b5cb9a9960664d90815d60c3749d528e",
      "2bddbf8e7dc54495a86f24d8065898d1",
      "21240fda03a2497d914d5d28a8a44577",
      "805dbd5d34004a21b3586837d395ebda",
      "b2d6644680c349718a1b9e47725ff3fa",
      "cf5d8f6b271840448c67149d20a53b99",
      "f8fb37262c7f403999407eaf1dc2d9d9",
      "55afa909a54b4378a7cbf5bc8bea4ad8",
      "4817fb999b2c4a38a721f0b4a5a7a1a3",
      "2095a10bd97144bd91c3d1500a9a5525",
      "ffd9aa950f4348f293b6e75fa15257ac",
      "66e8232ec56f40e1a9ac4964e1bb4549",
      "3abb72127b2543d0865c612c1bd86c41",
      "86987bedd08c4b7394758b12df764038",
      "aeb720cb2b594b51ad5cf49c19cf2880",
      "0c65c453be3742149494d35b8a4b234b",
      "d5ecb81b339d4fb8aa5b01b6127eea83",
      "8efae29dafba41e9b57327699b7aaa31",
      "58f812d815c24642988a7fc34036db07",
      "186778bb744a4a1a96f5b412e2f46f59",
      "d203034c68204f66b5ebbc91b6019327",
      "1df13086d12d4fa4aaa2ada27aba5c9b",
      "7744e7e846844c6ba3ee5ea99082aa22",
      "d91ebe0a0ff44d7da3274c4a95437dbf"
     ]
    },
    "execution": {
     "iopub.execute_input": "2025-06-01T08:18:59.009585Z",
     "iopub.status.busy": "2025-06-01T08:18:59.009310Z",
     "iopub.status.idle": "2025-06-01T08:18:59.282927Z",
     "shell.execute_reply": "2025-06-01T08:18:59.282361Z",
     "shell.execute_reply.started": "2025-06-01T08:18:59.009566Z"
    },
    "id": "oHh3I1EN6u3z",
    "outputId": "f38f3b13-5682-4cee-b34e-b7d992ec6737",
    "trusted": true
   },
   "outputs": [
    {
     "name": "stdout",
     "output_type": "stream",
     "text": [
      "Added 4 special tokens.\n"
     ]
    }
   ],
   "source": [
    "tokenizer = BartTokenizer.from_pretrained(\"facebook/bart-base\")\n",
    "special_tokens_dict = {\n",
    "    \"additional_special_tokens\": [\"<latent>\",\"<question>\", \"<context>\", \"<answer>\"]\n",
    "}\n",
    "num_added_toks = tokenizer.add_special_tokens(special_tokens_dict)\n",
    "print(f\"Added {num_added_toks} special tokens.\")"
   ]
  },
  {
   "cell_type": "code",
   "execution_count": 24,
   "metadata": {
    "execution": {
     "iopub.execute_input": "2025-06-01T08:19:01.521304Z",
     "iopub.status.busy": "2025-06-01T08:19:01.520747Z",
     "iopub.status.idle": "2025-06-01T08:19:01.529868Z",
     "shell.execute_reply": "2025-06-01T08:19:01.529284Z",
     "shell.execute_reply.started": "2025-06-01T08:19:01.521282Z"
    },
    "id": "q9wOy7eP6zRU",
    "trusted": true
   },
   "outputs": [],
   "source": [
    "from torch.utils.data import Dataset, DataLoader\n",
    "\n",
    "class QnADataset(Dataset):\n",
    "    def __init__(self, data, tokenizer, max_len=64):\n",
    "        self.data = data\n",
    "        self.tokenizer = tokenizer\n",
    "        self.max_len = max_len\n",
    "\n",
    "    def __len__(self):\n",
    "        return len(self.data)\n",
    "\n",
    "    def __getitem__(self, idx):\n",
    "        item = self.data[idx]\n",
    "        question = item['question']\n",
    "        context = item.get('context', '')  # Optional context\n",
    "        answer = item['answer']\n",
    "\n",
    "        input_text = f\"<latent> <context> {context} <query> {question}\".strip()\n",
    "\n",
    "        # Encode the inputs and targets\n",
    "        source = self.tokenizer(\n",
    "            input_text, max_length=self.max_len, padding=\"max_length\",\n",
    "            truncation=True, return_tensors=\"pt\"\n",
    "        )\n",
    "        target = self.tokenizer(\n",
    "            f\"<answer> {answer}\", max_length=32, padding=\"max_length\",\n",
    "            truncation=True, return_tensors=\"pt\"\n",
    "        )\n",
    "\n",
    "        # Shift decoder inputs and labels\n",
    "        input_ids = source[\"input_ids\"].squeeze()\n",
    "        attention_mask = source[\"attention_mask\"].squeeze()\n",
    "\n",
    "        decoder_input_ids = target[\"input_ids\"].squeeze()[:-1]\n",
    "        labels = target[\"input_ids\"].squeeze()[1:]\n",
    "\n",
    "        # Ensure consistent lengths (max_len - 1)\n",
    "        pad_token_id = self.tokenizer.pad_token_id\n",
    "        pad_len = self.max_len - 1\n",
    "        decoder_input_ids = torch.cat([\n",
    "            decoder_input_ids,\n",
    "            torch.full((pad_len - decoder_input_ids.size(0),), pad_token_id)\n",
    "        ])\n",
    "        labels = torch.cat([\n",
    "            labels,\n",
    "            torch.full((pad_len - labels.size(0),), pad_token_id)\n",
    "        ])\n",
    "\n",
    "        return {\n",
    "            \"input_ids\": input_ids,\n",
    "            \"attention_mask\": attention_mask,\n",
    "            \"decoder_input_ids\": decoder_input_ids,\n",
    "            \"labels\": labels,\n",
    "        }"
   ]
  },
  {
   "cell_type": "code",
   "execution_count": 25,
   "metadata": {
    "execution": {
     "iopub.execute_input": "2025-06-01T08:19:03.586265Z",
     "iopub.status.busy": "2025-06-01T08:19:03.585598Z",
     "iopub.status.idle": "2025-06-01T08:19:03.590368Z",
     "shell.execute_reply": "2025-06-01T08:19:03.589736Z",
     "shell.execute_reply.started": "2025-06-01T08:19:03.586240Z"
    },
    "id": "hu4kOVAm67UO",
    "trusted": true
   },
   "outputs": [],
   "source": [
    "train_dataset = QnADataset(train_data, tokenizer)\n",
    "train_dataloader = DataLoader(train_dataset, batch_size=16, shuffle=True)\n",
    "\n",
    "valid_dataset = QnADataset(valid_data, tokenizer)\n",
    "valid_dataloader = DataLoader(valid_dataset, batch_size=16, shuffle=False)"
   ]
  },
  {
   "cell_type": "code",
   "execution_count": 26,
   "metadata": {
    "colab": {
     "base_uri": "https://localhost:8080/",
     "height": 1000,
     "referenced_widgets": [
      "72d455a81fba429eb703c6910de235fb",
      "c7610a1e46d64723b08e5ed5c574be42",
      "135210cb26ad409f9ded74cfe943d801",
      "ddd65a69bb5e4c5c8278161bc37276df",
      "7e4134d948a0435093172fcb289e6eb8",
      "63a23b3f647643209c755d30714fa60a",
      "1161e8b4d7664efe8c8485ea7d776ced",
      "9d51afbaa3d44233888177ebb8731cc5",
      "f507bd78e5534521927e600ef1400384",
      "5c5e7195bbdf4b0fb9934f707809a278",
      "6b351dc1acdf42e99b5a2f5e7156a272"
     ]
    },
    "execution": {
     "iopub.execute_input": "2025-06-01T08:19:07.391779Z",
     "iopub.status.busy": "2025-06-01T08:19:07.391057Z",
     "iopub.status.idle": "2025-06-01T08:19:08.544544Z",
     "shell.execute_reply": "2025-06-01T08:19:08.543755Z",
     "shell.execute_reply.started": "2025-06-01T08:19:07.391757Z"
    },
    "id": "wC4DGaF27Mw4",
    "outputId": "859b7cd7-9275-4ba6-a36e-870ca1324db5",
    "trusted": true
   },
   "outputs": [
    {
     "name": "stdout",
     "output_type": "stream",
     "text": [
      "\n"
     ]
    }
   ],
   "source": [
    "model = BartForConditionalGeneration.from_pretrained(\"facebook/bart-base\")\n",
    "device = torch.device(\"cuda\" if torch.cuda.is_available() else \"cpu\")\n",
    "model.resize_token_embeddings(len(tokenizer))\n",
    "model.to(device)\n",
    "print()"
   ]
  },
  {
   "cell_type": "code",
   "execution_count": 27,
   "metadata": {
    "execution": {
     "iopub.execute_input": "2025-06-01T08:19:08.546353Z",
     "iopub.status.busy": "2025-06-01T08:19:08.545855Z",
     "iopub.status.idle": "2025-06-01T08:19:08.552310Z",
     "shell.execute_reply": "2025-06-01T08:19:08.551772Z",
     "shell.execute_reply.started": "2025-06-01T08:19:08.546334Z"
    },
    "id": "wl2LYcKS7Tdh",
    "trusted": true
   },
   "outputs": [],
   "source": [
    "from torch.optim import AdamW\n",
    "# === Step 4: Optimizer ===\n",
    "optimizer = AdamW(model.parameters(), lr=5e-5)"
   ]
  },
  {
   "cell_type": "code",
   "execution_count": null,
   "metadata": {
    "execution": {
     "iopub.execute_input": "2025-06-01T08:19:08.755585Z",
     "iopub.status.busy": "2025-06-01T08:19:08.755397Z",
     "iopub.status.idle": "2025-06-01T08:19:08.761151Z",
     "shell.execute_reply": "2025-06-01T08:19:08.760609Z",
     "shell.execute_reply.started": "2025-06-01T08:19:08.755571Z"
    },
    "id": "ceJ1Q4UR7ZWB",
    "trusted": true
   },
   "outputs": [],
   "source": [
    "from tqdm.auto import tqdm\n",
    "import torch.nn as nn\n",
    "\n",
    "model.train()\n",
    "bart_encoder = model.model.encoder\n",
    "bart_decoder = model.model.decoder\n",
    "bart_decoder_embedding = bart_decoder.embed_tokens\n",
    "lm_head = model.lm_head\n",
    "layer_norm = nn.LayerNorm(model.config.d_model).to(device)\n",
    "loss_fct = torch.nn.CrossEntropyLoss(ignore_index=tokenizer.pad_token_id)"
   ]
  },
  {
   "cell_type": "code",
   "execution_count": 29,
   "metadata": {
    "execution": {
     "iopub.execute_input": "2025-06-01T08:19:10.171699Z",
     "iopub.status.busy": "2025-06-01T08:19:10.171027Z",
     "iopub.status.idle": "2025-06-01T08:19:10.181667Z",
     "shell.execute_reply": "2025-06-01T08:19:10.181130Z",
     "shell.execute_reply.started": "2025-06-01T08:19:10.171667Z"
    },
    "id": "euxdwz_Z7ell",
    "trusted": true
   },
   "outputs": [],
   "source": [
    "\n",
    "class EntailmentMemory(nn.Module):\n",
    "    def __init__(self, num_slots: int, embedding_dim: int):\n",
    "        super().__init__()\n",
    "        self.memory = nn.Parameter(torch.randn(num_slots, embedding_dim))\n",
    "        self.proj = nn.Linear(embedding_dim, embedding_dim)\n",
    "        self.softmax = nn.Softmax(dim=-1)\n",
    "\n",
    "    def forward(self, x: torch.Tensor):\n",
    "        projected = self.proj(x)  # [batch_size, embedding_dim]\n",
    "        scores = torch.matmul(projected, self.memory.T)  # [batch_size, num_slots]\n",
    "        weights = self.softmax(scores)\n",
    "        output = torch.matmul(weights, self.memory)  # [batch_size, embedding_dim]\n",
    "        return output, weights\n",
    "\n",
    "memory = EntailmentMemory(num_slots=10, embedding_dim=model.config.d_model).to(device)"
   ]
  },
  {
   "cell_type": "code",
   "execution_count": null,
   "metadata": {
    "colab": {
     "base_uri": "https://localhost:8080/",
     "height": 477,
     "referenced_widgets": [
      "bd04e353c6ad4169965647cdec886e79",
      "2aef14d703324477ba5336b24d996d3f",
      "0dffa734cebd4889b6dcbafeac9d4183",
      "5381f3d320594186a220b2e2b298e593",
      "8a157556b7d54fe19424adc3e6a0c5c0",
      "40e4a07b135241d4b45b54dc13eb12ca",
      "d04021863d264ea4baa72ec37f0898fb",
      "049bafbe3da04de2b97f0da10dbb98c0",
      "575cdc3470ea46149183b5a0bfa0f096",
      "8b2d7214dde74956b153c5bd33b2c135",
      "1f9427e2951141d39ff71eba71ad91a5"
     ]
    },
    "execution": {
     "iopub.execute_input": "2025-06-01T08:19:13.471605Z",
     "iopub.status.busy": "2025-06-01T08:19:13.471138Z",
     "iopub.status.idle": "2025-06-01T08:25:23.690710Z",
     "shell.execute_reply": "2025-06-01T08:25:23.689889Z",
     "shell.execute_reply.started": "2025-06-01T08:19:13.471581Z"
    },
    "id": "5bHWYk6b7hXT",
    "outputId": "c7769028-8f4b-4265-f454-68e741d07190",
    "trusted": true
   },
   "outputs": [
    {
     "name": "stdout",
     "output_type": "stream",
     "text": [
      "\n",
      "🟢 Epoch 1\n",
      "------------------------------\n"
     ]
    },
    {
     "data": {
      "application/vnd.jupyter.widget-view+json": {
       "model_id": "7e2e8e2e51d54d2a9f21be9c11c39680",
       "version_major": 2,
       "version_minor": 0
      },
      "text/plain": [
       "Training:   0%|          | 0/197 [00:00<?, ?it/s]"
      ]
     },
     "metadata": {},
     "output_type": "display_data"
    },
    {
     "name": "stdout",
     "output_type": "stream",
     "text": [
      "✅ Avg Train Loss: 2.4753\n"
     ]
    },
    {
     "data": {
      "application/vnd.jupyter.widget-view+json": {
       "model_id": "b6f3b1c72fa941e6a1a19e01374360a5",
       "version_major": 2,
       "version_minor": 0
      },
      "text/plain": [
       "Validating:   0%|          | 0/69 [00:00<?, ?it/s]"
      ]
     },
     "metadata": {},
     "output_type": "display_data"
    },
    {
     "name": "stdout",
     "output_type": "stream",
     "text": [
      "🔵 Avg Validation Loss: 1.3397\n",
      "✅ Validation loss improved — continue training.\n",
      "\n",
      "🟢 Epoch 2\n",
      "------------------------------\n"
     ]
    },
    {
     "data": {
      "application/vnd.jupyter.widget-view+json": {
       "model_id": "9007eb62dedf457ca92baffada03a228",
       "version_major": 2,
       "version_minor": 0
      },
      "text/plain": [
       "Training:   0%|          | 0/197 [00:00<?, ?it/s]"
      ]
     },
     "metadata": {},
     "output_type": "display_data"
    },
    {
     "name": "stdout",
     "output_type": "stream",
     "text": [
      "✅ Avg Train Loss: 1.2288\n"
     ]
    },
    {
     "data": {
      "application/vnd.jupyter.widget-view+json": {
       "model_id": "c2497e808bfa434c9c3dfee9213f153e",
       "version_major": 2,
       "version_minor": 0
      },
      "text/plain": [
       "Validating:   0%|          | 0/69 [00:00<?, ?it/s]"
      ]
     },
     "metadata": {},
     "output_type": "display_data"
    },
    {
     "name": "stdout",
     "output_type": "stream",
     "text": [
      "🔵 Avg Validation Loss: 0.6866\n",
      "✅ Validation loss improved — continue training.\n",
      "\n",
      "🟢 Epoch 3\n",
      "------------------------------\n"
     ]
    },
    {
     "data": {
      "application/vnd.jupyter.widget-view+json": {
       "model_id": "b11629260f08466d9e986a208002c571",
       "version_major": 2,
       "version_minor": 0
      },
      "text/plain": [
       "Training:   0%|          | 0/197 [00:00<?, ?it/s]"
      ]
     },
     "metadata": {},
     "output_type": "display_data"
    },
    {
     "name": "stdout",
     "output_type": "stream",
     "text": [
      "✅ Avg Train Loss: 0.9096\n"
     ]
    },
    {
     "data": {
      "application/vnd.jupyter.widget-view+json": {
       "model_id": "28c7541ea99c4ab1bd7b6f1b3b6bc6ba",
       "version_major": 2,
       "version_minor": 0
      },
      "text/plain": [
       "Validating:   0%|          | 0/69 [00:00<?, ?it/s]"
      ]
     },
     "metadata": {},
     "output_type": "display_data"
    },
    {
     "name": "stdout",
     "output_type": "stream",
     "text": [
      "🔵 Avg Validation Loss: 0.5491\n",
      "✅ Validation loss improved — continue training.\n",
      "\n",
      "🟢 Epoch 4\n",
      "------------------------------\n"
     ]
    },
    {
     "data": {
      "application/vnd.jupyter.widget-view+json": {
       "model_id": "72d86a5739494b149ad23c458d8eaa3d",
       "version_major": 2,
       "version_minor": 0
      },
      "text/plain": [
       "Training:   0%|          | 0/197 [00:00<?, ?it/s]"
      ]
     },
     "metadata": {},
     "output_type": "display_data"
    },
    {
     "name": "stdout",
     "output_type": "stream",
     "text": [
      "✅ Avg Train Loss: 0.7543\n"
     ]
    },
    {
     "data": {
      "application/vnd.jupyter.widget-view+json": {
       "model_id": "64ac6b6d06da41ceb859f4d6db67b91e",
       "version_major": 2,
       "version_minor": 0
      },
      "text/plain": [
       "Validating:   0%|          | 0/69 [00:00<?, ?it/s]"
      ]
     },
     "metadata": {},
     "output_type": "display_data"
    },
    {
     "name": "stdout",
     "output_type": "stream",
     "text": [
      "🔵 Avg Validation Loss: 0.4505\n",
      "✅ Validation loss improved — continue training.\n",
      "\n",
      "🟢 Epoch 5\n",
      "------------------------------\n"
     ]
    },
    {
     "data": {
      "application/vnd.jupyter.widget-view+json": {
       "model_id": "0237aa7aa162449394922d1967473529",
       "version_major": 2,
       "version_minor": 0
      },
      "text/plain": [
       "Training:   0%|          | 0/197 [00:00<?, ?it/s]"
      ]
     },
     "metadata": {},
     "output_type": "display_data"
    },
    {
     "name": "stdout",
     "output_type": "stream",
     "text": [
      "✅ Avg Train Loss: 0.5771\n"
     ]
    },
    {
     "data": {
      "application/vnd.jupyter.widget-view+json": {
       "model_id": "85ab39aa61c542a09f5353bc44fa7d4a",
       "version_major": 2,
       "version_minor": 0
      },
      "text/plain": [
       "Validating:   0%|          | 0/69 [00:00<?, ?it/s]"
      ]
     },
     "metadata": {},
     "output_type": "display_data"
    },
    {
     "name": "stdout",
     "output_type": "stream",
     "text": [
      "🔵 Avg Validation Loss: 0.3242\n",
      "✅ Validation loss improved — continue training.\n"
     ]
    }
   ],
   "source": [
    "train_losses = []\n",
    "val_losses = []\n",
    "best_val_loss = float(\"inf\")  # 🧠 Start with infinity\n",
    "\n",
    "epoch = 5\n",
    "\n",
    "for epoch in range(epoch):\n",
    "    print(f\"\\n🟢 Epoch {epoch + 1}\\n\" + \"-\"*30)\n",
    "\n",
    "    # ========== Training ==========\n",
    "    model.train()\n",
    "    running_train_loss = 0.0\n",
    "\n",
    "    for batch in tqdm(train_dataloader, desc=\"Training\"):\n",
    "        input_ids = batch[\"input_ids\"].to(device)\n",
    "        attention_mask = batch[\"attention_mask\"].to(device)\n",
    "        decoder_input_ids = batch[\"decoder_input_ids\"].to(device)\n",
    "        labels = batch[\"labels\"].to(device)\n",
    "\n",
    "        encoder_outputs = encoder(\n",
    "            input_ids=input_ids,\n",
    "            attention_mask=attention_mask,\n",
    "            return_dict=True\n",
    "        )\n",
    "        decoder_embeddings = model.model.decoder.embed_tokens(decoder_input_ids)\n",
    "        hz = memory(encoder_outputs.last_hidden_state[:, 0, :])\n",
    "        decoder_embeddings[:, 0, :] += hz[0]\n",
    "        # decoder_embeddings[:, 0, :] = layer_norm(decoder_embeddings[:, 0, :])\n",
    "\n",
    "        decoder_outputs = decoder(\n",
    "            # input_ids=decoder_input_ids,\n",
    "            inputs_embeds=decoder_embeddings,\n",
    "            encoder_hidden_states=encoder_outputs.last_hidden_state,\n",
    "            encoder_attention_mask=attention_mask,\n",
    "            return_dict=True\n",
    "        )\n",
    "\n",
    "        lm_logits = lm_head(decoder_outputs.last_hidden_state)\n",
    "\n",
    "        loss = loss_fct(\n",
    "            lm_logits.view(-1, lm_logits.size(-1)),\n",
    "            labels.view(-1)\n",
    "        )\n",
    "\n",
    "        loss.backward()\n",
    "        optimizer.step()\n",
    "        optimizer.zero_grad()\n",
    "\n",
    "        running_train_loss += loss.item()\n",
    "\n",
    "    avg_train_loss = running_train_loss / len(train_dataloader)\n",
    "    train_losses.append(avg_train_loss)\n",
    "    print(f\"✅ Avg Train Loss: {avg_train_loss:.4f}\")\n",
    "\n",
    "    # ========== Validation ==========\n",
    "    model.eval()\n",
    "    running_val_loss = 0.0\n",
    "\n",
    "    with torch.no_grad():\n",
    "        for batch in tqdm(valid_dataloader, desc=\"Validating\"):\n",
    "            input_ids = batch[\"input_ids\"].to(device)\n",
    "            attention_mask = batch[\"attention_mask\"].to(device)\n",
    "            decoder_input_ids = batch[\"decoder_input_ids\"].to(device)\n",
    "            labels = batch[\"labels\"].to(device)\n",
    "\n",
    "            encoder_outputs = bart_encoder(\n",
    "                input_ids=input_ids,\n",
    "                attention_mask=attention_mask,\n",
    "                return_dict=True\n",
    "            )\n",
    "            decoder_embeddings = bart_decoder_embedding(decoder_input_ids)\n",
    "            hz = memory(encoder_outputs.last_hidden_state[:, 0, :])\n",
    "            decoder_embeddings[:, 0, :] += hz[0]\n",
    "\n",
    "            decoder_outputs = bart_decoder(\n",
    "                # input_ids=decoder_input_ids,\n",
    "                inputs_embeds=decoder_embeddings,\n",
    "                encoder_hidden_states=encoder_outputs.last_hidden_state,\n",
    "                encoder_attention_mask=attention_mask,\n",
    "                return_dict=True\n",
    "            )\n",
    "\n",
    "            lm_logits = lm_head(decoder_outputs.last_hidden_state)\n",
    "\n",
    "            val_loss = loss_fct(\n",
    "                lm_logits.view(-1, lm_logits.size(-1)),\n",
    "                labels.view(-1)\n",
    "            )\n",
    "\n",
    "            running_val_loss += val_loss.item()\n",
    "\n",
    "    avg_val_loss = running_val_loss / len(valid_dataloader)\n",
    "    val_losses.append(avg_val_loss)\n",
    "    print(f\"🔵 Avg Validation Loss: {avg_val_loss:.4f}\")\n",
    "\n",
    "    # === Early Stopping Condition ===\n",
    "    if avg_val_loss < best_val_loss:\n",
    "        best_val_loss = avg_val_loss\n",
    "        print(\"✅ Validation loss improved — continue training.\")\n",
    "    else:\n",
    "        print(\"🛑 Validation loss increased — stopping early.\")\n",
    "        break"
   ]
  },
  {
   "cell_type": "markdown",
   "metadata": {
    "id": "C75a5ekn7zvg"
   },
   "source": [
    "## Step : Inference"
   ]
  },
  {
   "cell_type": "code",
   "execution_count": 31,
   "metadata": {
    "execution": {
     "iopub.execute_input": "2025-06-01T08:25:44.249337Z",
     "iopub.status.busy": "2025-06-01T08:25:44.248768Z",
     "iopub.status.idle": "2025-06-01T08:25:44.259899Z",
     "shell.execute_reply": "2025-06-01T08:25:44.259244Z",
     "shell.execute_reply.started": "2025-06-01T08:25:44.249314Z"
    },
    "id": "nuUFa0e_7veq",
    "trusted": true
   },
   "outputs": [],
   "source": [
    "import torch\n",
    "import torch.nn.functional as F\n",
    "\n",
    "def top_k_top_p_filtering(logits, top_k=0, top_p=1.0, filter_value=-float('Inf')):\n",
    "    \"\"\" Filter logits using top-k and/or top-p (nucleus) filtering. \"\"\"\n",
    "    logits = logits.clone()  # Avoid in-place modifications on input tensor\n",
    "\n",
    "    # Top-k filtering\n",
    "    if top_k > 0:\n",
    "        top_k = min(top_k, logits.size(-1))  # Safety check\n",
    "        indices_to_remove = logits < torch.topk(logits, top_k)[0][..., -1, None]\n",
    "        logits[indices_to_remove] = filter_value\n",
    "\n",
    "    # Top-p (nucleus) filtering\n",
    "    if top_p < 1.0:\n",
    "        sorted_logits, sorted_indices = torch.sort(logits, descending=True)\n",
    "        cumulative_probs = torch.cumsum(F.softmax(sorted_logits, dim=-1), dim=-1)\n",
    "\n",
    "        # Remove tokens with cumulative probs above the threshold\n",
    "        sorted_indices_to_remove = cumulative_probs > top_p\n",
    "\n",
    "        # Shift to ensure at least one token is kept\n",
    "        sorted_indices_to_remove[..., 1:] = sorted_indices_to_remove[..., :-1].clone()\n",
    "        sorted_indices_to_remove[..., 0] = False\n",
    "\n",
    "        indices_to_remove = sorted_indices[sorted_indices_to_remove]\n",
    "        logits[indices_to_remove] = filter_value\n",
    "\n",
    "    return logits\n",
    "\n",
    "def bart_generate(\n",
    "    model, tokenizer, input_text, device,\n",
    "    max_length=50, top_k=50, top_p=0.9, temperature=1.0\n",
    "):\n",
    "    model.eval()\n",
    "    input_ids = tokenizer(input_text, return_tensors=\"pt\").input_ids.to(device)\n",
    "\n",
    "    # Get encoder outputs\n",
    "    encoder_outputs = model.model.encoder(input_ids=input_ids, return_dict=True)\n",
    "\n",
    "    # Initialize decoder input with BOS token\n",
    "    decoder_input_ids = torch.tensor([[tokenizer.bos_token_id]], device=device)\n",
    "\n",
    "    # Optional: Add custom memory injection (mocked here for placeholder)\n",
    "    decoder_embeddings = model.model.decoder.embed_tokens(decoder_input_ids)\n",
    "    hz = memory(encoder_outputs.last_hidden_state[:, 0, :])  # If needed, define memory()\n",
    "    decoder_embeddings[:, 0, :] += hz[0]  # Modify only if memory injection is required\n",
    "    # decoder_embeddings[:, 0, :] = layer_norm(decoder_embeddings[:, 0, :])\n",
    "    \n",
    "    generated_tokens = []\n",
    "\n",
    "    for step in range(max_length):\n",
    "        decoder_outputs = model.model.decoder(\n",
    "            inputs_embeds=decoder_embeddings,\n",
    "            encoder_hidden_states=encoder_outputs.last_hidden_state,\n",
    "            encoder_attention_mask=(input_ids != tokenizer.pad_token_id),\n",
    "            return_dict=True,\n",
    "        )\n",
    "\n",
    "        lm_logits = model.lm_head(decoder_outputs.last_hidden_state)\n",
    "        next_token_logits = lm_logits[:, -1, :] / temperature\n",
    "\n",
    "        filtered_logits = top_k_top_p_filtering(next_token_logits.squeeze(0), top_k=top_k, top_p=top_p)\n",
    "\n",
    "        probs = F.softmax(filtered_logits, dim=-1)\n",
    "        next_token = torch.multinomial(probs, num_samples=1)\n",
    "\n",
    "        decoder_input_ids = torch.cat([decoder_input_ids, next_token.unsqueeze(0)], dim=-1)\n",
    "        decoder_embeddings = model.model.decoder.embed_tokens(decoder_input_ids)\n",
    "\n",
    "        generated_tokens.append(next_token.item())\n",
    "\n",
    "        if next_token.item() == tokenizer.eos_token_id:\n",
    "            break\n",
    "\n",
    "    return tokenizer.decode(generated_tokens, skip_special_tokens=True)\n"
   ]
  },
  {
   "cell_type": "code",
   "execution_count": 32,
   "metadata": {
    "colab": {
     "base_uri": "https://localhost:8080/"
    },
    "execution": {
     "iopub.execute_input": "2025-06-01T08:25:44.853230Z",
     "iopub.status.busy": "2025-06-01T08:25:44.852940Z",
     "iopub.status.idle": "2025-06-01T08:25:45.617563Z",
     "shell.execute_reply": "2025-06-01T08:25:45.616979Z",
     "shell.execute_reply.started": "2025-06-01T08:25:44.853209Z"
    },
    "id": "LJYQtQkJ8wmM",
    "outputId": "acc5f37f-18bf-4bbb-8905-62cfd34ebfbd",
    "trusted": true
   },
   "outputs": [
    {
     "name": "stdout",
     "output_type": "stream",
     "text": [
      "82\n",
      "question:  is pete hegseth married\n",
      "predicted_answer:  Hegseth is a married. He is a married.\n",
      "answer: Yes, Pete Hegseth is married.\n"
     ]
    }
   ],
   "source": [
    "import random\n",
    "\n",
    "# Get a random integer between 1 and 100 (inclusive)\n",
    "rand_num = random.randint(1, 100)\n",
    "\n",
    "print(rand_num)\n",
    "\n",
    "context = valid_data[rand_num]['context']\n",
    "question =  valid_data[rand_num]['question']\n",
    "answer =  valid_data[rand_num]['answer']\n",
    "\n",
    "input_text = f\"<latent> <context> {context}  <question> {question}\"\n",
    "\n",
    "predicted_answer = bart_generate(\n",
    "    model, tokenizer, input_text, device,\n",
    "    max_length=50,\n",
    "    top_k=50,\n",
    "    top_p=1.0,\n",
    "    temperature=1.0\n",
    ")\n",
    "\n",
    "print(\"question: \",question)\n",
    "print(\"predicted_answer:\", predicted_answer)\n",
    "print(\"answer:\", answer)"
   ]
  },
  {
   "cell_type": "code",
   "execution_count": 34,
   "metadata": {
    "colab": {
     "base_uri": "https://localhost:8080/",
     "height": 49,
     "referenced_widgets": [
      "f6911902899c4a05ab1315687cc2558c",
      "3ffa22d1ea304beab143c9ed64caadf8",
      "430e4c4f8e2c4849a7c24b149a1ed137",
      "7f8e7a9a1f64462389668103c785d15c",
      "99e25d1a2a1e42cf8a3475c2fcbfb900",
      "9e3b7003c991413d8c60ef149da123ef",
      "69ec85ad30d644349ea1b44d38dc5b69",
      "1843e010b8eb46d2aa9d58b62d42633c",
      "efd260632efa42898cdde81ace74c2dc",
      "66f2bbffcb2d4562a197568ac8df325a",
      "8fc3afa01bc048298c1f60576608b301"
     ]
    },
    "execution": {
     "iopub.execute_input": "2025-06-01T08:27:36.261197Z",
     "iopub.status.busy": "2025-06-01T08:27:36.260571Z",
     "iopub.status.idle": "2025-06-01T08:30:28.673602Z",
     "shell.execute_reply": "2025-06-01T08:30:28.672952Z",
     "shell.execute_reply.started": "2025-06-01T08:27:36.261173Z"
    },
    "id": "wgiu3RPn75Ho",
    "outputId": "da4f928d-c097-4405-f4b8-b9543223292b",
    "trusted": true
   },
   "outputs": [
    {
     "name": "stderr",
     "output_type": "stream",
     "text": [
      "Validation: 100%|██████████| 1097/1097 [02:52<00:00,  6.36it/s]"
     ]
    },
    {
     "name": "stdout",
     "output_type": "stream",
     "text": [
      "\n",
      "🕒 Total time: 172.41 seconds\n",
      "⏱️  Average time per example: 0.1572 seconds\n"
     ]
    },
    {
     "name": "stderr",
     "output_type": "stream",
     "text": [
      "\n"
     ]
    }
   ],
   "source": [
    "import time\n",
    "from tqdm import tqdm\n",
    "\n",
    "actual_answers = []\n",
    "predicted_answers = []\n",
    "\n",
    "start_time = time.time()  # Start timer\n",
    "\n",
    "for data in tqdm(valid_data, desc=\"Validation\"):\n",
    "    pred_answer = bart_generate(\n",
    "        model, tokenizer, \n",
    "        f\"question: {data['question']} context: {data['context']}\", \n",
    "        device,\n",
    "        max_length=30,\n",
    "        top_k=10,\n",
    "        top_p=0.6,\n",
    "        temperature=1.0\n",
    "    )\n",
    "    actual_answers.append(data['answer'])\n",
    "    predicted_answers.append(pred_answer)\n",
    "\n",
    "end_time = time.time()  # End timer\n",
    "\n",
    "# Total time taken\n",
    "total_time = end_time - start_time\n",
    "avg_time_per_example = total_time / len(valid_data)\n",
    "\n",
    "print(f\"\\n🕒 Total time: {total_time:.2f} seconds\")\n",
    "print(f\"⏱️  Average time per example: {avg_time_per_example:.4f} seconds\")\n"
   ]
  },
  {
   "cell_type": "code",
   "execution_count": 35,
   "metadata": {
    "execution": {
     "iopub.execute_input": "2025-06-01T08:33:14.124675Z",
     "iopub.status.busy": "2025-06-01T08:33:14.123949Z",
     "iopub.status.idle": "2025-06-01T08:33:14.129720Z",
     "shell.execute_reply": "2025-06-01T08:33:14.129032Z",
     "shell.execute_reply.started": "2025-06-01T08:33:14.124652Z"
    },
    "trusted": true
   },
   "outputs": [],
   "source": [
    "import pickle\n",
    "\n",
    "\n",
    "# Save both in a dictionary\n",
    "results = {\n",
    "    'actual_answers': actual_answers,\n",
    "    'predicted_answers': predicted_answers\n",
    "}\n",
    "\n",
    "# Save to pickle file\n",
    "with open(\"qa_predictions.pkl\", \"wb\") as f:\n",
    "    pickle.dump(results, f)"
   ]
  }
 ],
 "metadata": {
  "colab": {
   "provenance": []
  },
  "kaggle": {
   "accelerator": "nvidiaTeslaT4",
   "dataSources": [
    {
     "datasetId": 7563967,
     "sourceId": 12022588,
     "sourceType": "datasetVersion"
    }
   ],
   "dockerImageVersionId": 31041,
   "isGpuEnabled": true,
   "isInternetEnabled": true,
   "language": "python",
   "sourceType": "notebook"
  },
  "kernelspec": {
   "display_name": "Python 3",
   "language": "python",
   "name": "python3"
  },
  "language_info": {
   "codemirror_mode": {
    "name": "ipython",
    "version": 3
   },
   "file_extension": ".py",
   "mimetype": "text/x-python",
   "name": "python",
   "nbconvert_exporter": "python",
   "pygments_lexer": "ipython3",
   "version": "3.11.11"
  },
  "widgets": {
   "application/vnd.jupyter.widget-state+json": {
    "049bafbe3da04de2b97f0da10dbb98c0": {
     "model_module": "@jupyter-widgets/base",
     "model_module_version": "1.2.0",
     "model_name": "LayoutModel",
     "state": {
      "_model_module": "@jupyter-widgets/base",
      "_model_module_version": "1.2.0",
      "_model_name": "LayoutModel",
      "_view_count": null,
      "_view_module": "@jupyter-widgets/base",
      "_view_module_version": "1.2.0",
      "_view_name": "LayoutView",
      "align_content": null,
      "align_items": null,
      "align_self": null,
      "border": null,
      "bottom": null,
      "display": null,
      "flex": null,
      "flex_flow": null,
      "grid_area": null,
      "grid_auto_columns": null,
      "grid_auto_flow": null,
      "grid_auto_rows": null,
      "grid_column": null,
      "grid_gap": null,
      "grid_row": null,
      "grid_template_areas": null,
      "grid_template_columns": null,
      "grid_template_rows": null,
      "height": null,
      "justify_content": null,
      "justify_items": null,
      "left": null,
      "margin": null,
      "max_height": null,
      "max_width": null,
      "min_height": null,
      "min_width": null,
      "object_fit": null,
      "object_position": null,
      "order": null,
      "overflow": null,
      "overflow_x": null,
      "overflow_y": null,
      "padding": null,
      "right": null,
      "top": null,
      "visibility": null,
      "width": null
     }
    },
    "053a50d4118b4bff8ae9af1640f1d998": {
     "model_module": "@jupyter-widgets/base",
     "model_module_version": "1.2.0",
     "model_name": "LayoutModel",
     "state": {
      "_model_module": "@jupyter-widgets/base",
      "_model_module_version": "1.2.0",
      "_model_name": "LayoutModel",
      "_view_count": null,
      "_view_module": "@jupyter-widgets/base",
      "_view_module_version": "1.2.0",
      "_view_name": "LayoutView",
      "align_content": null,
      "align_items": null,
      "align_self": null,
      "border": null,
      "bottom": null,
      "display": null,
      "flex": null,
      "flex_flow": null,
      "grid_area": null,
      "grid_auto_columns": null,
      "grid_auto_flow": null,
      "grid_auto_rows": null,
      "grid_column": null,
      "grid_gap": null,
      "grid_row": null,
      "grid_template_areas": null,
      "grid_template_columns": null,
      "grid_template_rows": null,
      "height": null,
      "justify_content": null,
      "justify_items": null,
      "left": null,
      "margin": null,
      "max_height": null,
      "max_width": null,
      "min_height": null,
      "min_width": null,
      "object_fit": null,
      "object_position": null,
      "order": null,
      "overflow": null,
      "overflow_x": null,
      "overflow_y": null,
      "padding": null,
      "right": null,
      "top": null,
      "visibility": null,
      "width": null
     }
    },
    "0c65c453be3742149494d35b8a4b234b": {
     "model_module": "@jupyter-widgets/controls",
     "model_module_version": "1.5.0",
     "model_name": "FloatProgressModel",
     "state": {
      "_dom_classes": [],
      "_model_module": "@jupyter-widgets/controls",
      "_model_module_version": "1.5.0",
      "_model_name": "FloatProgressModel",
      "_view_count": null,
      "_view_module": "@jupyter-widgets/controls",
      "_view_module_version": "1.5.0",
      "_view_name": "ProgressView",
      "bar_style": "success",
      "description": "",
      "description_tooltip": null,
      "layout": "IPY_MODEL_d203034c68204f66b5ebbc91b6019327",
      "max": 1716,
      "min": 0,
      "orientation": "horizontal",
      "style": "IPY_MODEL_1df13086d12d4fa4aaa2ada27aba5c9b",
      "value": 1716
     }
    },
    "0dffa734cebd4889b6dcbafeac9d4183": {
     "model_module": "@jupyter-widgets/controls",
     "model_module_version": "1.5.0",
     "model_name": "FloatProgressModel",
     "state": {
      "_dom_classes": [],
      "_model_module": "@jupyter-widgets/controls",
      "_model_module_version": "1.5.0",
      "_model_name": "FloatProgressModel",
      "_view_count": null,
      "_view_module": "@jupyter-widgets/controls",
      "_view_module_version": "1.5.0",
      "_view_name": "ProgressView",
      "bar_style": "danger",
      "description": "",
      "description_tooltip": null,
      "layout": "IPY_MODEL_049bafbe3da04de2b97f0da10dbb98c0",
      "max": 197,
      "min": 0,
      "orientation": "horizontal",
      "style": "IPY_MODEL_575cdc3470ea46149183b5a0bfa0f096",
      "value": 4
     }
    },
    "1161e8b4d7664efe8c8485ea7d776ced": {
     "model_module": "@jupyter-widgets/controls",
     "model_module_version": "1.5.0",
     "model_name": "DescriptionStyleModel",
     "state": {
      "_model_module": "@jupyter-widgets/controls",
      "_model_module_version": "1.5.0",
      "_model_name": "DescriptionStyleModel",
      "_view_count": null,
      "_view_module": "@jupyter-widgets/base",
      "_view_module_version": "1.2.0",
      "_view_name": "StyleView",
      "description_width": ""
     }
    },
    "135210cb26ad409f9ded74cfe943d801": {
     "model_module": "@jupyter-widgets/controls",
     "model_module_version": "1.5.0",
     "model_name": "FloatProgressModel",
     "state": {
      "_dom_classes": [],
      "_model_module": "@jupyter-widgets/controls",
      "_model_module_version": "1.5.0",
      "_model_name": "FloatProgressModel",
      "_view_count": null,
      "_view_module": "@jupyter-widgets/controls",
      "_view_module_version": "1.5.0",
      "_view_name": "ProgressView",
      "bar_style": "success",
      "description": "",
      "description_tooltip": null,
      "layout": "IPY_MODEL_9d51afbaa3d44233888177ebb8731cc5",
      "max": 557709915,
      "min": 0,
      "orientation": "horizontal",
      "style": "IPY_MODEL_f507bd78e5534521927e600ef1400384",
      "value": 557709915
     }
    },
    "1843e010b8eb46d2aa9d58b62d42633c": {
     "model_module": "@jupyter-widgets/base",
     "model_module_version": "1.2.0",
     "model_name": "LayoutModel",
     "state": {
      "_model_module": "@jupyter-widgets/base",
      "_model_module_version": "1.2.0",
      "_model_name": "LayoutModel",
      "_view_count": null,
      "_view_module": "@jupyter-widgets/base",
      "_view_module_version": "1.2.0",
      "_view_name": "LayoutView",
      "align_content": null,
      "align_items": null,
      "align_self": null,
      "border": null,
      "bottom": null,
      "display": null,
      "flex": null,
      "flex_flow": null,
      "grid_area": null,
      "grid_auto_columns": null,
      "grid_auto_flow": null,
      "grid_auto_rows": null,
      "grid_column": null,
      "grid_gap": null,
      "grid_row": null,
      "grid_template_areas": null,
      "grid_template_columns": null,
      "grid_template_rows": null,
      "height": null,
      "justify_content": null,
      "justify_items": null,
      "left": null,
      "margin": null,
      "max_height": null,
      "max_width": null,
      "min_height": null,
      "min_width": null,
      "object_fit": null,
      "object_position": null,
      "order": null,
      "overflow": null,
      "overflow_x": null,
      "overflow_y": null,
      "padding": null,
      "right": null,
      "top": null,
      "visibility": null,
      "width": null
     }
    },
    "1861063b57b046a4bba50415a35eec18": {
     "model_module": "@jupyter-widgets/base",
     "model_module_version": "1.2.0",
     "model_name": "LayoutModel",
     "state": {
      "_model_module": "@jupyter-widgets/base",
      "_model_module_version": "1.2.0",
      "_model_name": "LayoutModel",
      "_view_count": null,
      "_view_module": "@jupyter-widgets/base",
      "_view_module_version": "1.2.0",
      "_view_name": "LayoutView",
      "align_content": null,
      "align_items": null,
      "align_self": null,
      "border": null,
      "bottom": null,
      "display": null,
      "flex": null,
      "flex_flow": null,
      "grid_area": null,
      "grid_auto_columns": null,
      "grid_auto_flow": null,
      "grid_auto_rows": null,
      "grid_column": null,
      "grid_gap": null,
      "grid_row": null,
      "grid_template_areas": null,
      "grid_template_columns": null,
      "grid_template_rows": null,
      "height": null,
      "justify_content": null,
      "justify_items": null,
      "left": null,
      "margin": null,
      "max_height": null,
      "max_width": null,
      "min_height": null,
      "min_width": null,
      "object_fit": null,
      "object_position": null,
      "order": null,
      "overflow": null,
      "overflow_x": null,
      "overflow_y": null,
      "padding": null,
      "right": null,
      "top": null,
      "visibility": null,
      "width": null
     }
    },
    "186778bb744a4a1a96f5b412e2f46f59": {
     "model_module": "@jupyter-widgets/controls",
     "model_module_version": "1.5.0",
     "model_name": "DescriptionStyleModel",
     "state": {
      "_model_module": "@jupyter-widgets/controls",
      "_model_module_version": "1.5.0",
      "_model_name": "DescriptionStyleModel",
      "_view_count": null,
      "_view_module": "@jupyter-widgets/base",
      "_view_module_version": "1.2.0",
      "_view_name": "StyleView",
      "description_width": ""
     }
    },
    "1df13086d12d4fa4aaa2ada27aba5c9b": {
     "model_module": "@jupyter-widgets/controls",
     "model_module_version": "1.5.0",
     "model_name": "ProgressStyleModel",
     "state": {
      "_model_module": "@jupyter-widgets/controls",
      "_model_module_version": "1.5.0",
      "_model_name": "ProgressStyleModel",
      "_view_count": null,
      "_view_module": "@jupyter-widgets/base",
      "_view_module_version": "1.2.0",
      "_view_name": "StyleView",
      "bar_color": null,
      "description_width": ""
     }
    },
    "1f9427e2951141d39ff71eba71ad91a5": {
     "model_module": "@jupyter-widgets/controls",
     "model_module_version": "1.5.0",
     "model_name": "DescriptionStyleModel",
     "state": {
      "_model_module": "@jupyter-widgets/controls",
      "_model_module_version": "1.5.0",
      "_model_name": "DescriptionStyleModel",
      "_view_count": null,
      "_view_module": "@jupyter-widgets/base",
      "_view_module_version": "1.2.0",
      "_view_name": "StyleView",
      "description_width": ""
     }
    },
    "2039270b02d344dbb7e25e0098e8a9b2": {
     "model_module": "@jupyter-widgets/controls",
     "model_module_version": "1.5.0",
     "model_name": "ProgressStyleModel",
     "state": {
      "_model_module": "@jupyter-widgets/controls",
      "_model_module_version": "1.5.0",
      "_model_name": "ProgressStyleModel",
      "_view_count": null,
      "_view_module": "@jupyter-widgets/base",
      "_view_module_version": "1.2.0",
      "_view_name": "StyleView",
      "bar_color": null,
      "description_width": ""
     }
    },
    "2095a10bd97144bd91c3d1500a9a5525": {
     "model_module": "@jupyter-widgets/base",
     "model_module_version": "1.2.0",
     "model_name": "LayoutModel",
     "state": {
      "_model_module": "@jupyter-widgets/base",
      "_model_module_version": "1.2.0",
      "_model_name": "LayoutModel",
      "_view_count": null,
      "_view_module": "@jupyter-widgets/base",
      "_view_module_version": "1.2.0",
      "_view_name": "LayoutView",
      "align_content": null,
      "align_items": null,
      "align_self": null,
      "border": null,
      "bottom": null,
      "display": null,
      "flex": null,
      "flex_flow": null,
      "grid_area": null,
      "grid_auto_columns": null,
      "grid_auto_flow": null,
      "grid_auto_rows": null,
      "grid_column": null,
      "grid_gap": null,
      "grid_row": null,
      "grid_template_areas": null,
      "grid_template_columns": null,
      "grid_template_rows": null,
      "height": null,
      "justify_content": null,
      "justify_items": null,
      "left": null,
      "margin": null,
      "max_height": null,
      "max_width": null,
      "min_height": null,
      "min_width": null,
      "object_fit": null,
      "object_position": null,
      "order": null,
      "overflow": null,
      "overflow_x": null,
      "overflow_y": null,
      "padding": null,
      "right": null,
      "top": null,
      "visibility": null,
      "width": null
     }
    },
    "21240fda03a2497d914d5d28a8a44577": {
     "model_module": "@jupyter-widgets/controls",
     "model_module_version": "1.5.0",
     "model_name": "HBoxModel",
     "state": {
      "_dom_classes": [],
      "_model_module": "@jupyter-widgets/controls",
      "_model_module_version": "1.5.0",
      "_model_name": "HBoxModel",
      "_view_count": null,
      "_view_module": "@jupyter-widgets/controls",
      "_view_module_version": "1.5.0",
      "_view_name": "HBoxView",
      "box_style": "",
      "children": [
       "IPY_MODEL_805dbd5d34004a21b3586837d395ebda",
       "IPY_MODEL_b2d6644680c349718a1b9e47725ff3fa",
       "IPY_MODEL_cf5d8f6b271840448c67149d20a53b99"
      ],
      "layout": "IPY_MODEL_f8fb37262c7f403999407eaf1dc2d9d9"
     }
    },
    "24e0cce1638b4bf49ff7e940e2f4d80a": {
     "model_module": "@jupyter-widgets/controls",
     "model_module_version": "1.5.0",
     "model_name": "HTMLModel",
     "state": {
      "_dom_classes": [],
      "_model_module": "@jupyter-widgets/controls",
      "_model_module_version": "1.5.0",
      "_model_name": "HTMLModel",
      "_view_count": null,
      "_view_module": "@jupyter-widgets/controls",
      "_view_module_version": "1.5.0",
      "_view_name": "HTMLView",
      "description": "",
      "description_tooltip": null,
      "layout": "IPY_MODEL_2921cb6fdc0c4994ac0580d371fe446c",
      "placeholder": "​",
      "style": "IPY_MODEL_5a345abefd284970b2479c51bd760b6c",
      "value": " 899k/899k [00:00&lt;00:00, 5.09MB/s]"
     }
    },
    "2921cb6fdc0c4994ac0580d371fe446c": {
     "model_module": "@jupyter-widgets/base",
     "model_module_version": "1.2.0",
     "model_name": "LayoutModel",
     "state": {
      "_model_module": "@jupyter-widgets/base",
      "_model_module_version": "1.2.0",
      "_model_name": "LayoutModel",
      "_view_count": null,
      "_view_module": "@jupyter-widgets/base",
      "_view_module_version": "1.2.0",
      "_view_name": "LayoutView",
      "align_content": null,
      "align_items": null,
      "align_self": null,
      "border": null,
      "bottom": null,
      "display": null,
      "flex": null,
      "flex_flow": null,
      "grid_area": null,
      "grid_auto_columns": null,
      "grid_auto_flow": null,
      "grid_auto_rows": null,
      "grid_column": null,
      "grid_gap": null,
      "grid_row": null,
      "grid_template_areas": null,
      "grid_template_columns": null,
      "grid_template_rows": null,
      "height": null,
      "justify_content": null,
      "justify_items": null,
      "left": null,
      "margin": null,
      "max_height": null,
      "max_width": null,
      "min_height": null,
      "min_width": null,
      "object_fit": null,
      "object_position": null,
      "order": null,
      "overflow": null,
      "overflow_x": null,
      "overflow_y": null,
      "padding": null,
      "right": null,
      "top": null,
      "visibility": null,
      "width": null
     }
    },
    "2aef14d703324477ba5336b24d996d3f": {
     "model_module": "@jupyter-widgets/controls",
     "model_module_version": "1.5.0",
     "model_name": "HTMLModel",
     "state": {
      "_dom_classes": [],
      "_model_module": "@jupyter-widgets/controls",
      "_model_module_version": "1.5.0",
      "_model_name": "HTMLModel",
      "_view_count": null,
      "_view_module": "@jupyter-widgets/controls",
      "_view_module_version": "1.5.0",
      "_view_name": "HTMLView",
      "description": "",
      "description_tooltip": null,
      "layout": "IPY_MODEL_40e4a07b135241d4b45b54dc13eb12ca",
      "placeholder": "​",
      "style": "IPY_MODEL_d04021863d264ea4baa72ec37f0898fb",
      "value": "Training:   2%"
     }
    },
    "2bddbf8e7dc54495a86f24d8065898d1": {
     "model_module": "@jupyter-widgets/controls",
     "model_module_version": "1.5.0",
     "model_name": "DescriptionStyleModel",
     "state": {
      "_model_module": "@jupyter-widgets/controls",
      "_model_module_version": "1.5.0",
      "_model_name": "DescriptionStyleModel",
      "_view_count": null,
      "_view_module": "@jupyter-widgets/base",
      "_view_module_version": "1.2.0",
      "_view_name": "StyleView",
      "description_width": ""
     }
    },
    "3abb72127b2543d0865c612c1bd86c41": {
     "model_module": "@jupyter-widgets/controls",
     "model_module_version": "1.5.0",
     "model_name": "DescriptionStyleModel",
     "state": {
      "_model_module": "@jupyter-widgets/controls",
      "_model_module_version": "1.5.0",
      "_model_name": "DescriptionStyleModel",
      "_view_count": null,
      "_view_module": "@jupyter-widgets/base",
      "_view_module_version": "1.2.0",
      "_view_name": "StyleView",
      "description_width": ""
     }
    },
    "3ffa22d1ea304beab143c9ed64caadf8": {
     "model_module": "@jupyter-widgets/controls",
     "model_module_version": "1.5.0",
     "model_name": "HTMLModel",
     "state": {
      "_dom_classes": [],
      "_model_module": "@jupyter-widgets/controls",
      "_model_module_version": "1.5.0",
      "_model_name": "HTMLModel",
      "_view_count": null,
      "_view_module": "@jupyter-widgets/controls",
      "_view_module_version": "1.5.0",
      "_view_name": "HTMLView",
      "description": "",
      "description_tooltip": null,
      "layout": "IPY_MODEL_9e3b7003c991413d8c60ef149da123ef",
      "placeholder": "​",
      "style": "IPY_MODEL_69ec85ad30d644349ea1b44d38dc5b69",
      "value": "Validation:   2%"
     }
    },
    "40e4a07b135241d4b45b54dc13eb12ca": {
     "model_module": "@jupyter-widgets/base",
     "model_module_version": "1.2.0",
     "model_name": "LayoutModel",
     "state": {
      "_model_module": "@jupyter-widgets/base",
      "_model_module_version": "1.2.0",
      "_model_name": "LayoutModel",
      "_view_count": null,
      "_view_module": "@jupyter-widgets/base",
      "_view_module_version": "1.2.0",
      "_view_name": "LayoutView",
      "align_content": null,
      "align_items": null,
      "align_self": null,
      "border": null,
      "bottom": null,
      "display": null,
      "flex": null,
      "flex_flow": null,
      "grid_area": null,
      "grid_auto_columns": null,
      "grid_auto_flow": null,
      "grid_auto_rows": null,
      "grid_column": null,
      "grid_gap": null,
      "grid_row": null,
      "grid_template_areas": null,
      "grid_template_columns": null,
      "grid_template_rows": null,
      "height": null,
      "justify_content": null,
      "justify_items": null,
      "left": null,
      "margin": null,
      "max_height": null,
      "max_width": null,
      "min_height": null,
      "min_width": null,
      "object_fit": null,
      "object_position": null,
      "order": null,
      "overflow": null,
      "overflow_x": null,
      "overflow_y": null,
      "padding": null,
      "right": null,
      "top": null,
      "visibility": null,
      "width": null
     }
    },
    "420c19b9fcff4ecf94f751d983dfdc88": {
     "model_module": "@jupyter-widgets/base",
     "model_module_version": "1.2.0",
     "model_name": "LayoutModel",
     "state": {
      "_model_module": "@jupyter-widgets/base",
      "_model_module_version": "1.2.0",
      "_model_name": "LayoutModel",
      "_view_count": null,
      "_view_module": "@jupyter-widgets/base",
      "_view_module_version": "1.2.0",
      "_view_name": "LayoutView",
      "align_content": null,
      "align_items": null,
      "align_self": null,
      "border": null,
      "bottom": null,
      "display": null,
      "flex": null,
      "flex_flow": null,
      "grid_area": null,
      "grid_auto_columns": null,
      "grid_auto_flow": null,
      "grid_auto_rows": null,
      "grid_column": null,
      "grid_gap": null,
      "grid_row": null,
      "grid_template_areas": null,
      "grid_template_columns": null,
      "grid_template_rows": null,
      "height": null,
      "justify_content": null,
      "justify_items": null,
      "left": null,
      "margin": null,
      "max_height": null,
      "max_width": null,
      "min_height": null,
      "min_width": null,
      "object_fit": null,
      "object_position": null,
      "order": null,
      "overflow": null,
      "overflow_x": null,
      "overflow_y": null,
      "padding": null,
      "right": null,
      "top": null,
      "visibility": null,
      "width": null
     }
    },
    "430e4c4f8e2c4849a7c24b149a1ed137": {
     "model_module": "@jupyter-widgets/controls",
     "model_module_version": "1.5.0",
     "model_name": "FloatProgressModel",
     "state": {
      "_dom_classes": [],
      "_model_module": "@jupyter-widgets/controls",
      "_model_module_version": "1.5.0",
      "_model_name": "FloatProgressModel",
      "_view_count": null,
      "_view_module": "@jupyter-widgets/controls",
      "_view_module_version": "1.5.0",
      "_view_name": "ProgressView",
      "bar_style": "",
      "description": "",
      "description_tooltip": null,
      "layout": "IPY_MODEL_1843e010b8eb46d2aa9d58b62d42633c",
      "max": 300,
      "min": 0,
      "orientation": "horizontal",
      "style": "IPY_MODEL_efd260632efa42898cdde81ace74c2dc",
      "value": 7
     }
    },
    "4817fb999b2c4a38a721f0b4a5a7a1a3": {
     "model_module": "@jupyter-widgets/controls",
     "model_module_version": "1.5.0",
     "model_name": "DescriptionStyleModel",
     "state": {
      "_model_module": "@jupyter-widgets/controls",
      "_model_module_version": "1.5.0",
      "_model_name": "DescriptionStyleModel",
      "_view_count": null,
      "_view_module": "@jupyter-widgets/base",
      "_view_module_version": "1.2.0",
      "_view_name": "StyleView",
      "description_width": ""
     }
    },
    "5381f3d320594186a220b2e2b298e593": {
     "model_module": "@jupyter-widgets/controls",
     "model_module_version": "1.5.0",
     "model_name": "HTMLModel",
     "state": {
      "_dom_classes": [],
      "_model_module": "@jupyter-widgets/controls",
      "_model_module_version": "1.5.0",
      "_model_name": "HTMLModel",
      "_view_count": null,
      "_view_module": "@jupyter-widgets/controls",
      "_view_module_version": "1.5.0",
      "_view_name": "HTMLView",
      "description": "",
      "description_tooltip": null,
      "layout": "IPY_MODEL_8b2d7214dde74956b153c5bd33b2c135",
      "placeholder": "​",
      "style": "IPY_MODEL_1f9427e2951141d39ff71eba71ad91a5",
      "value": " 4/197 [00:49&lt;37:58, 11.80s/it]"
     }
    },
    "53d1dd36ba794c06a5d3356cb64da8cb": {
     "model_module": "@jupyter-widgets/controls",
     "model_module_version": "1.5.0",
     "model_name": "HBoxModel",
     "state": {
      "_dom_classes": [],
      "_model_module": "@jupyter-widgets/controls",
      "_model_module_version": "1.5.0",
      "_model_name": "HBoxModel",
      "_view_count": null,
      "_view_module": "@jupyter-widgets/controls",
      "_view_module_version": "1.5.0",
      "_view_name": "HBoxView",
      "box_style": "",
      "children": [
       "IPY_MODEL_9c368a69fd3743418a399195957706da",
       "IPY_MODEL_b4184fbbe14c44ecbcf6d55508248bc1",
       "IPY_MODEL_24e0cce1638b4bf49ff7e940e2f4d80a"
      ],
      "layout": "IPY_MODEL_c8b5458bf3264127a24f335d91893794"
     }
    },
    "55afa909a54b4378a7cbf5bc8bea4ad8": {
     "model_module": "@jupyter-widgets/base",
     "model_module_version": "1.2.0",
     "model_name": "LayoutModel",
     "state": {
      "_model_module": "@jupyter-widgets/base",
      "_model_module_version": "1.2.0",
      "_model_name": "LayoutModel",
      "_view_count": null,
      "_view_module": "@jupyter-widgets/base",
      "_view_module_version": "1.2.0",
      "_view_name": "LayoutView",
      "align_content": null,
      "align_items": null,
      "align_self": null,
      "border": null,
      "bottom": null,
      "display": null,
      "flex": null,
      "flex_flow": null,
      "grid_area": null,
      "grid_auto_columns": null,
      "grid_auto_flow": null,
      "grid_auto_rows": null,
      "grid_column": null,
      "grid_gap": null,
      "grid_row": null,
      "grid_template_areas": null,
      "grid_template_columns": null,
      "grid_template_rows": null,
      "height": null,
      "justify_content": null,
      "justify_items": null,
      "left": null,
      "margin": null,
      "max_height": null,
      "max_width": null,
      "min_height": null,
      "min_width": null,
      "object_fit": null,
      "object_position": null,
      "order": null,
      "overflow": null,
      "overflow_x": null,
      "overflow_y": null,
      "padding": null,
      "right": null,
      "top": null,
      "visibility": null,
      "width": null
     }
    },
    "575cdc3470ea46149183b5a0bfa0f096": {
     "model_module": "@jupyter-widgets/controls",
     "model_module_version": "1.5.0",
     "model_name": "ProgressStyleModel",
     "state": {
      "_model_module": "@jupyter-widgets/controls",
      "_model_module_version": "1.5.0",
      "_model_name": "ProgressStyleModel",
      "_view_count": null,
      "_view_module": "@jupyter-widgets/base",
      "_view_module_version": "1.2.0",
      "_view_name": "StyleView",
      "bar_color": null,
      "description_width": ""
     }
    },
    "58f812d815c24642988a7fc34036db07": {
     "model_module": "@jupyter-widgets/base",
     "model_module_version": "1.2.0",
     "model_name": "LayoutModel",
     "state": {
      "_model_module": "@jupyter-widgets/base",
      "_model_module_version": "1.2.0",
      "_model_name": "LayoutModel",
      "_view_count": null,
      "_view_module": "@jupyter-widgets/base",
      "_view_module_version": "1.2.0",
      "_view_name": "LayoutView",
      "align_content": null,
      "align_items": null,
      "align_self": null,
      "border": null,
      "bottom": null,
      "display": null,
      "flex": null,
      "flex_flow": null,
      "grid_area": null,
      "grid_auto_columns": null,
      "grid_auto_flow": null,
      "grid_auto_rows": null,
      "grid_column": null,
      "grid_gap": null,
      "grid_row": null,
      "grid_template_areas": null,
      "grid_template_columns": null,
      "grid_template_rows": null,
      "height": null,
      "justify_content": null,
      "justify_items": null,
      "left": null,
      "margin": null,
      "max_height": null,
      "max_width": null,
      "min_height": null,
      "min_width": null,
      "object_fit": null,
      "object_position": null,
      "order": null,
      "overflow": null,
      "overflow_x": null,
      "overflow_y": null,
      "padding": null,
      "right": null,
      "top": null,
      "visibility": null,
      "width": null
     }
    },
    "5a345abefd284970b2479c51bd760b6c": {
     "model_module": "@jupyter-widgets/controls",
     "model_module_version": "1.5.0",
     "model_name": "DescriptionStyleModel",
     "state": {
      "_model_module": "@jupyter-widgets/controls",
      "_model_module_version": "1.5.0",
      "_model_name": "DescriptionStyleModel",
      "_view_count": null,
      "_view_module": "@jupyter-widgets/base",
      "_view_module_version": "1.2.0",
      "_view_name": "StyleView",
      "description_width": ""
     }
    },
    "5c5e7195bbdf4b0fb9934f707809a278": {
     "model_module": "@jupyter-widgets/base",
     "model_module_version": "1.2.0",
     "model_name": "LayoutModel",
     "state": {
      "_model_module": "@jupyter-widgets/base",
      "_model_module_version": "1.2.0",
      "_model_name": "LayoutModel",
      "_view_count": null,
      "_view_module": "@jupyter-widgets/base",
      "_view_module_version": "1.2.0",
      "_view_name": "LayoutView",
      "align_content": null,
      "align_items": null,
      "align_self": null,
      "border": null,
      "bottom": null,
      "display": null,
      "flex": null,
      "flex_flow": null,
      "grid_area": null,
      "grid_auto_columns": null,
      "grid_auto_flow": null,
      "grid_auto_rows": null,
      "grid_column": null,
      "grid_gap": null,
      "grid_row": null,
      "grid_template_areas": null,
      "grid_template_columns": null,
      "grid_template_rows": null,
      "height": null,
      "justify_content": null,
      "justify_items": null,
      "left": null,
      "margin": null,
      "max_height": null,
      "max_width": null,
      "min_height": null,
      "min_width": null,
      "object_fit": null,
      "object_position": null,
      "order": null,
      "overflow": null,
      "overflow_x": null,
      "overflow_y": null,
      "padding": null,
      "right": null,
      "top": null,
      "visibility": null,
      "width": null
     }
    },
    "63a23b3f647643209c755d30714fa60a": {
     "model_module": "@jupyter-widgets/base",
     "model_module_version": "1.2.0",
     "model_name": "LayoutModel",
     "state": {
      "_model_module": "@jupyter-widgets/base",
      "_model_module_version": "1.2.0",
      "_model_name": "LayoutModel",
      "_view_count": null,
      "_view_module": "@jupyter-widgets/base",
      "_view_module_version": "1.2.0",
      "_view_name": "LayoutView",
      "align_content": null,
      "align_items": null,
      "align_self": null,
      "border": null,
      "bottom": null,
      "display": null,
      "flex": null,
      "flex_flow": null,
      "grid_area": null,
      "grid_auto_columns": null,
      "grid_auto_flow": null,
      "grid_auto_rows": null,
      "grid_column": null,
      "grid_gap": null,
      "grid_row": null,
      "grid_template_areas": null,
      "grid_template_columns": null,
      "grid_template_rows": null,
      "height": null,
      "justify_content": null,
      "justify_items": null,
      "left": null,
      "margin": null,
      "max_height": null,
      "max_width": null,
      "min_height": null,
      "min_width": null,
      "object_fit": null,
      "object_position": null,
      "order": null,
      "overflow": null,
      "overflow_x": null,
      "overflow_y": null,
      "padding": null,
      "right": null,
      "top": null,
      "visibility": null,
      "width": null
     }
    },
    "66e8232ec56f40e1a9ac4964e1bb4549": {
     "model_module": "@jupyter-widgets/base",
     "model_module_version": "1.2.0",
     "model_name": "LayoutModel",
     "state": {
      "_model_module": "@jupyter-widgets/base",
      "_model_module_version": "1.2.0",
      "_model_name": "LayoutModel",
      "_view_count": null,
      "_view_module": "@jupyter-widgets/base",
      "_view_module_version": "1.2.0",
      "_view_name": "LayoutView",
      "align_content": null,
      "align_items": null,
      "align_self": null,
      "border": null,
      "bottom": null,
      "display": null,
      "flex": null,
      "flex_flow": null,
      "grid_area": null,
      "grid_auto_columns": null,
      "grid_auto_flow": null,
      "grid_auto_rows": null,
      "grid_column": null,
      "grid_gap": null,
      "grid_row": null,
      "grid_template_areas": null,
      "grid_template_columns": null,
      "grid_template_rows": null,
      "height": null,
      "justify_content": null,
      "justify_items": null,
      "left": null,
      "margin": null,
      "max_height": null,
      "max_width": null,
      "min_height": null,
      "min_width": null,
      "object_fit": null,
      "object_position": null,
      "order": null,
      "overflow": null,
      "overflow_x": null,
      "overflow_y": null,
      "padding": null,
      "right": null,
      "top": null,
      "visibility": null,
      "width": null
     }
    },
    "66f2bbffcb2d4562a197568ac8df325a": {
     "model_module": "@jupyter-widgets/base",
     "model_module_version": "1.2.0",
     "model_name": "LayoutModel",
     "state": {
      "_model_module": "@jupyter-widgets/base",
      "_model_module_version": "1.2.0",
      "_model_name": "LayoutModel",
      "_view_count": null,
      "_view_module": "@jupyter-widgets/base",
      "_view_module_version": "1.2.0",
      "_view_name": "LayoutView",
      "align_content": null,
      "align_items": null,
      "align_self": null,
      "border": null,
      "bottom": null,
      "display": null,
      "flex": null,
      "flex_flow": null,
      "grid_area": null,
      "grid_auto_columns": null,
      "grid_auto_flow": null,
      "grid_auto_rows": null,
      "grid_column": null,
      "grid_gap": null,
      "grid_row": null,
      "grid_template_areas": null,
      "grid_template_columns": null,
      "grid_template_rows": null,
      "height": null,
      "justify_content": null,
      "justify_items": null,
      "left": null,
      "margin": null,
      "max_height": null,
      "max_width": null,
      "min_height": null,
      "min_width": null,
      "object_fit": null,
      "object_position": null,
      "order": null,
      "overflow": null,
      "overflow_x": null,
      "overflow_y": null,
      "padding": null,
      "right": null,
      "top": null,
      "visibility": null,
      "width": null
     }
    },
    "69ec85ad30d644349ea1b44d38dc5b69": {
     "model_module": "@jupyter-widgets/controls",
     "model_module_version": "1.5.0",
     "model_name": "DescriptionStyleModel",
     "state": {
      "_model_module": "@jupyter-widgets/controls",
      "_model_module_version": "1.5.0",
      "_model_name": "DescriptionStyleModel",
      "_view_count": null,
      "_view_module": "@jupyter-widgets/base",
      "_view_module_version": "1.2.0",
      "_view_name": "StyleView",
      "description_width": ""
     }
    },
    "6b351dc1acdf42e99b5a2f5e7156a272": {
     "model_module": "@jupyter-widgets/controls",
     "model_module_version": "1.5.0",
     "model_name": "DescriptionStyleModel",
     "state": {
      "_model_module": "@jupyter-widgets/controls",
      "_model_module_version": "1.5.0",
      "_model_name": "DescriptionStyleModel",
      "_view_count": null,
      "_view_module": "@jupyter-widgets/base",
      "_view_module_version": "1.2.0",
      "_view_name": "StyleView",
      "description_width": ""
     }
    },
    "72d455a81fba429eb703c6910de235fb": {
     "model_module": "@jupyter-widgets/controls",
     "model_module_version": "1.5.0",
     "model_name": "HBoxModel",
     "state": {
      "_dom_classes": [],
      "_model_module": "@jupyter-widgets/controls",
      "_model_module_version": "1.5.0",
      "_model_name": "HBoxModel",
      "_view_count": null,
      "_view_module": "@jupyter-widgets/controls",
      "_view_module_version": "1.5.0",
      "_view_name": "HBoxView",
      "box_style": "",
      "children": [
       "IPY_MODEL_c7610a1e46d64723b08e5ed5c574be42",
       "IPY_MODEL_135210cb26ad409f9ded74cfe943d801",
       "IPY_MODEL_ddd65a69bb5e4c5c8278161bc37276df"
      ],
      "layout": "IPY_MODEL_7e4134d948a0435093172fcb289e6eb8"
     }
    },
    "7744e7e846844c6ba3ee5ea99082aa22": {
     "model_module": "@jupyter-widgets/base",
     "model_module_version": "1.2.0",
     "model_name": "LayoutModel",
     "state": {
      "_model_module": "@jupyter-widgets/base",
      "_model_module_version": "1.2.0",
      "_model_name": "LayoutModel",
      "_view_count": null,
      "_view_module": "@jupyter-widgets/base",
      "_view_module_version": "1.2.0",
      "_view_name": "LayoutView",
      "align_content": null,
      "align_items": null,
      "align_self": null,
      "border": null,
      "bottom": null,
      "display": null,
      "flex": null,
      "flex_flow": null,
      "grid_area": null,
      "grid_auto_columns": null,
      "grid_auto_flow": null,
      "grid_auto_rows": null,
      "grid_column": null,
      "grid_gap": null,
      "grid_row": null,
      "grid_template_areas": null,
      "grid_template_columns": null,
      "grid_template_rows": null,
      "height": null,
      "justify_content": null,
      "justify_items": null,
      "left": null,
      "margin": null,
      "max_height": null,
      "max_width": null,
      "min_height": null,
      "min_width": null,
      "object_fit": null,
      "object_position": null,
      "order": null,
      "overflow": null,
      "overflow_x": null,
      "overflow_y": null,
      "padding": null,
      "right": null,
      "top": null,
      "visibility": null,
      "width": null
     }
    },
    "77f298bcb3e046e19d5ef542e2e510ba": {
     "model_module": "@jupyter-widgets/controls",
     "model_module_version": "1.5.0",
     "model_name": "ProgressStyleModel",
     "state": {
      "_model_module": "@jupyter-widgets/controls",
      "_model_module_version": "1.5.0",
      "_model_name": "ProgressStyleModel",
      "_view_count": null,
      "_view_module": "@jupyter-widgets/base",
      "_view_module_version": "1.2.0",
      "_view_name": "StyleView",
      "bar_color": null,
      "description_width": ""
     }
    },
    "7e4134d948a0435093172fcb289e6eb8": {
     "model_module": "@jupyter-widgets/base",
     "model_module_version": "1.2.0",
     "model_name": "LayoutModel",
     "state": {
      "_model_module": "@jupyter-widgets/base",
      "_model_module_version": "1.2.0",
      "_model_name": "LayoutModel",
      "_view_count": null,
      "_view_module": "@jupyter-widgets/base",
      "_view_module_version": "1.2.0",
      "_view_name": "LayoutView",
      "align_content": null,
      "align_items": null,
      "align_self": null,
      "border": null,
      "bottom": null,
      "display": null,
      "flex": null,
      "flex_flow": null,
      "grid_area": null,
      "grid_auto_columns": null,
      "grid_auto_flow": null,
      "grid_auto_rows": null,
      "grid_column": null,
      "grid_gap": null,
      "grid_row": null,
      "grid_template_areas": null,
      "grid_template_columns": null,
      "grid_template_rows": null,
      "height": null,
      "justify_content": null,
      "justify_items": null,
      "left": null,
      "margin": null,
      "max_height": null,
      "max_width": null,
      "min_height": null,
      "min_width": null,
      "object_fit": null,
      "object_position": null,
      "order": null,
      "overflow": null,
      "overflow_x": null,
      "overflow_y": null,
      "padding": null,
      "right": null,
      "top": null,
      "visibility": null,
      "width": null
     }
    },
    "7f8e7a9a1f64462389668103c785d15c": {
     "model_module": "@jupyter-widgets/controls",
     "model_module_version": "1.5.0",
     "model_name": "HTMLModel",
     "state": {
      "_dom_classes": [],
      "_model_module": "@jupyter-widgets/controls",
      "_model_module_version": "1.5.0",
      "_model_name": "HTMLModel",
      "_view_count": null,
      "_view_module": "@jupyter-widgets/controls",
      "_view_module_version": "1.5.0",
      "_view_name": "HTMLView",
      "description": "",
      "description_tooltip": null,
      "layout": "IPY_MODEL_66f2bbffcb2d4562a197568ac8df325a",
      "placeholder": "​",
      "style": "IPY_MODEL_8fc3afa01bc048298c1f60576608b301",
      "value": " 7/300 [00:34&lt;23:23,  4.79s/it]"
     }
    },
    "805dbd5d34004a21b3586837d395ebda": {
     "model_module": "@jupyter-widgets/controls",
     "model_module_version": "1.5.0",
     "model_name": "HTMLModel",
     "state": {
      "_dom_classes": [],
      "_model_module": "@jupyter-widgets/controls",
      "_model_module_version": "1.5.0",
      "_model_name": "HTMLModel",
      "_view_count": null,
      "_view_module": "@jupyter-widgets/controls",
      "_view_module_version": "1.5.0",
      "_view_name": "HTMLView",
      "description": "",
      "description_tooltip": null,
      "layout": "IPY_MODEL_55afa909a54b4378a7cbf5bc8bea4ad8",
      "placeholder": "​",
      "style": "IPY_MODEL_4817fb999b2c4a38a721f0b4a5a7a1a3",
      "value": "tokenizer.json: 100%"
     }
    },
    "86987bedd08c4b7394758b12df764038": {
     "model_module": "@jupyter-widgets/controls",
     "model_module_version": "1.5.0",
     "model_name": "HBoxModel",
     "state": {
      "_dom_classes": [],
      "_model_module": "@jupyter-widgets/controls",
      "_model_module_version": "1.5.0",
      "_model_name": "HBoxModel",
      "_view_count": null,
      "_view_module": "@jupyter-widgets/controls",
      "_view_module_version": "1.5.0",
      "_view_name": "HBoxView",
      "box_style": "",
      "children": [
       "IPY_MODEL_aeb720cb2b594b51ad5cf49c19cf2880",
       "IPY_MODEL_0c65c453be3742149494d35b8a4b234b",
       "IPY_MODEL_d5ecb81b339d4fb8aa5b01b6127eea83"
      ],
      "layout": "IPY_MODEL_8efae29dafba41e9b57327699b7aaa31"
     }
    },
    "8a157556b7d54fe19424adc3e6a0c5c0": {
     "model_module": "@jupyter-widgets/base",
     "model_module_version": "1.2.0",
     "model_name": "LayoutModel",
     "state": {
      "_model_module": "@jupyter-widgets/base",
      "_model_module_version": "1.2.0",
      "_model_name": "LayoutModel",
      "_view_count": null,
      "_view_module": "@jupyter-widgets/base",
      "_view_module_version": "1.2.0",
      "_view_name": "LayoutView",
      "align_content": null,
      "align_items": null,
      "align_self": null,
      "border": null,
      "bottom": null,
      "display": null,
      "flex": null,
      "flex_flow": null,
      "grid_area": null,
      "grid_auto_columns": null,
      "grid_auto_flow": null,
      "grid_auto_rows": null,
      "grid_column": null,
      "grid_gap": null,
      "grid_row": null,
      "grid_template_areas": null,
      "grid_template_columns": null,
      "grid_template_rows": null,
      "height": null,
      "justify_content": null,
      "justify_items": null,
      "left": null,
      "margin": null,
      "max_height": null,
      "max_width": null,
      "min_height": null,
      "min_width": null,
      "object_fit": null,
      "object_position": null,
      "order": null,
      "overflow": null,
      "overflow_x": null,
      "overflow_y": null,
      "padding": null,
      "right": null,
      "top": null,
      "visibility": null,
      "width": null
     }
    },
    "8b2d7214dde74956b153c5bd33b2c135": {
     "model_module": "@jupyter-widgets/base",
     "model_module_version": "1.2.0",
     "model_name": "LayoutModel",
     "state": {
      "_model_module": "@jupyter-widgets/base",
      "_model_module_version": "1.2.0",
      "_model_name": "LayoutModel",
      "_view_count": null,
      "_view_module": "@jupyter-widgets/base",
      "_view_module_version": "1.2.0",
      "_view_name": "LayoutView",
      "align_content": null,
      "align_items": null,
      "align_self": null,
      "border": null,
      "bottom": null,
      "display": null,
      "flex": null,
      "flex_flow": null,
      "grid_area": null,
      "grid_auto_columns": null,
      "grid_auto_flow": null,
      "grid_auto_rows": null,
      "grid_column": null,
      "grid_gap": null,
      "grid_row": null,
      "grid_template_areas": null,
      "grid_template_columns": null,
      "grid_template_rows": null,
      "height": null,
      "justify_content": null,
      "justify_items": null,
      "left": null,
      "margin": null,
      "max_height": null,
      "max_width": null,
      "min_height": null,
      "min_width": null,
      "object_fit": null,
      "object_position": null,
      "order": null,
      "overflow": null,
      "overflow_x": null,
      "overflow_y": null,
      "padding": null,
      "right": null,
      "top": null,
      "visibility": null,
      "width": null
     }
    },
    "8efae29dafba41e9b57327699b7aaa31": {
     "model_module": "@jupyter-widgets/base",
     "model_module_version": "1.2.0",
     "model_name": "LayoutModel",
     "state": {
      "_model_module": "@jupyter-widgets/base",
      "_model_module_version": "1.2.0",
      "_model_name": "LayoutModel",
      "_view_count": null,
      "_view_module": "@jupyter-widgets/base",
      "_view_module_version": "1.2.0",
      "_view_name": "LayoutView",
      "align_content": null,
      "align_items": null,
      "align_self": null,
      "border": null,
      "bottom": null,
      "display": null,
      "flex": null,
      "flex_flow": null,
      "grid_area": null,
      "grid_auto_columns": null,
      "grid_auto_flow": null,
      "grid_auto_rows": null,
      "grid_column": null,
      "grid_gap": null,
      "grid_row": null,
      "grid_template_areas": null,
      "grid_template_columns": null,
      "grid_template_rows": null,
      "height": null,
      "justify_content": null,
      "justify_items": null,
      "left": null,
      "margin": null,
      "max_height": null,
      "max_width": null,
      "min_height": null,
      "min_width": null,
      "object_fit": null,
      "object_position": null,
      "order": null,
      "overflow": null,
      "overflow_x": null,
      "overflow_y": null,
      "padding": null,
      "right": null,
      "top": null,
      "visibility": null,
      "width": null
     }
    },
    "8fc3afa01bc048298c1f60576608b301": {
     "model_module": "@jupyter-widgets/controls",
     "model_module_version": "1.5.0",
     "model_name": "DescriptionStyleModel",
     "state": {
      "_model_module": "@jupyter-widgets/controls",
      "_model_module_version": "1.5.0",
      "_model_name": "DescriptionStyleModel",
      "_view_count": null,
      "_view_module": "@jupyter-widgets/base",
      "_view_module_version": "1.2.0",
      "_view_name": "StyleView",
      "description_width": ""
     }
    },
    "94cbb2cf029448c0b950fd0d517ed538": {
     "model_module": "@jupyter-widgets/controls",
     "model_module_version": "1.5.0",
     "model_name": "FloatProgressModel",
     "state": {
      "_dom_classes": [],
      "_model_module": "@jupyter-widgets/controls",
      "_model_module_version": "1.5.0",
      "_model_name": "FloatProgressModel",
      "_view_count": null,
      "_view_module": "@jupyter-widgets/controls",
      "_view_module_version": "1.5.0",
      "_view_name": "ProgressView",
      "bar_style": "success",
      "description": "",
      "description_tooltip": null,
      "layout": "IPY_MODEL_f682f48e0a73469a9aa8b0b25fcfffb5",
      "max": 456318,
      "min": 0,
      "orientation": "horizontal",
      "style": "IPY_MODEL_2039270b02d344dbb7e25e0098e8a9b2",
      "value": 456318
     }
    },
    "99e25d1a2a1e42cf8a3475c2fcbfb900": {
     "model_module": "@jupyter-widgets/base",
     "model_module_version": "1.2.0",
     "model_name": "LayoutModel",
     "state": {
      "_model_module": "@jupyter-widgets/base",
      "_model_module_version": "1.2.0",
      "_model_name": "LayoutModel",
      "_view_count": null,
      "_view_module": "@jupyter-widgets/base",
      "_view_module_version": "1.2.0",
      "_view_name": "LayoutView",
      "align_content": null,
      "align_items": null,
      "align_self": null,
      "border": null,
      "bottom": null,
      "display": null,
      "flex": null,
      "flex_flow": null,
      "grid_area": null,
      "grid_auto_columns": null,
      "grid_auto_flow": null,
      "grid_auto_rows": null,
      "grid_column": null,
      "grid_gap": null,
      "grid_row": null,
      "grid_template_areas": null,
      "grid_template_columns": null,
      "grid_template_rows": null,
      "height": null,
      "justify_content": null,
      "justify_items": null,
      "left": null,
      "margin": null,
      "max_height": null,
      "max_width": null,
      "min_height": null,
      "min_width": null,
      "object_fit": null,
      "object_position": null,
      "order": null,
      "overflow": null,
      "overflow_x": null,
      "overflow_y": null,
      "padding": null,
      "right": null,
      "top": null,
      "visibility": null,
      "width": null
     }
    },
    "9c368a69fd3743418a399195957706da": {
     "model_module": "@jupyter-widgets/controls",
     "model_module_version": "1.5.0",
     "model_name": "HTMLModel",
     "state": {
      "_dom_classes": [],
      "_model_module": "@jupyter-widgets/controls",
      "_model_module_version": "1.5.0",
      "_model_name": "HTMLModel",
      "_view_count": null,
      "_view_module": "@jupyter-widgets/controls",
      "_view_module_version": "1.5.0",
      "_view_name": "HTMLView",
      "description": "",
      "description_tooltip": null,
      "layout": "IPY_MODEL_aa1b063a2ed34a5f9c47b756cef12811",
      "placeholder": "​",
      "style": "IPY_MODEL_cbc82931a1044c0f9fdeace96b10cdf3",
      "value": "vocab.json: 100%"
     }
    },
    "9d51afbaa3d44233888177ebb8731cc5": {
     "model_module": "@jupyter-widgets/base",
     "model_module_version": "1.2.0",
     "model_name": "LayoutModel",
     "state": {
      "_model_module": "@jupyter-widgets/base",
      "_model_module_version": "1.2.0",
      "_model_name": "LayoutModel",
      "_view_count": null,
      "_view_module": "@jupyter-widgets/base",
      "_view_module_version": "1.2.0",
      "_view_name": "LayoutView",
      "align_content": null,
      "align_items": null,
      "align_self": null,
      "border": null,
      "bottom": null,
      "display": null,
      "flex": null,
      "flex_flow": null,
      "grid_area": null,
      "grid_auto_columns": null,
      "grid_auto_flow": null,
      "grid_auto_rows": null,
      "grid_column": null,
      "grid_gap": null,
      "grid_row": null,
      "grid_template_areas": null,
      "grid_template_columns": null,
      "grid_template_rows": null,
      "height": null,
      "justify_content": null,
      "justify_items": null,
      "left": null,
      "margin": null,
      "max_height": null,
      "max_width": null,
      "min_height": null,
      "min_width": null,
      "object_fit": null,
      "object_position": null,
      "order": null,
      "overflow": null,
      "overflow_x": null,
      "overflow_y": null,
      "padding": null,
      "right": null,
      "top": null,
      "visibility": null,
      "width": null
     }
    },
    "9e3b7003c991413d8c60ef149da123ef": {
     "model_module": "@jupyter-widgets/base",
     "model_module_version": "1.2.0",
     "model_name": "LayoutModel",
     "state": {
      "_model_module": "@jupyter-widgets/base",
      "_model_module_version": "1.2.0",
      "_model_name": "LayoutModel",
      "_view_count": null,
      "_view_module": "@jupyter-widgets/base",
      "_view_module_version": "1.2.0",
      "_view_name": "LayoutView",
      "align_content": null,
      "align_items": null,
      "align_self": null,
      "border": null,
      "bottom": null,
      "display": null,
      "flex": null,
      "flex_flow": null,
      "grid_area": null,
      "grid_auto_columns": null,
      "grid_auto_flow": null,
      "grid_auto_rows": null,
      "grid_column": null,
      "grid_gap": null,
      "grid_row": null,
      "grid_template_areas": null,
      "grid_template_columns": null,
      "grid_template_rows": null,
      "height": null,
      "justify_content": null,
      "justify_items": null,
      "left": null,
      "margin": null,
      "max_height": null,
      "max_width": null,
      "min_height": null,
      "min_width": null,
      "object_fit": null,
      "object_position": null,
      "order": null,
      "overflow": null,
      "overflow_x": null,
      "overflow_y": null,
      "padding": null,
      "right": null,
      "top": null,
      "visibility": null,
      "width": null
     }
    },
    "aa1b063a2ed34a5f9c47b756cef12811": {
     "model_module": "@jupyter-widgets/base",
     "model_module_version": "1.2.0",
     "model_name": "LayoutModel",
     "state": {
      "_model_module": "@jupyter-widgets/base",
      "_model_module_version": "1.2.0",
      "_model_name": "LayoutModel",
      "_view_count": null,
      "_view_module": "@jupyter-widgets/base",
      "_view_module_version": "1.2.0",
      "_view_name": "LayoutView",
      "align_content": null,
      "align_items": null,
      "align_self": null,
      "border": null,
      "bottom": null,
      "display": null,
      "flex": null,
      "flex_flow": null,
      "grid_area": null,
      "grid_auto_columns": null,
      "grid_auto_flow": null,
      "grid_auto_rows": null,
      "grid_column": null,
      "grid_gap": null,
      "grid_row": null,
      "grid_template_areas": null,
      "grid_template_columns": null,
      "grid_template_rows": null,
      "height": null,
      "justify_content": null,
      "justify_items": null,
      "left": null,
      "margin": null,
      "max_height": null,
      "max_width": null,
      "min_height": null,
      "min_width": null,
      "object_fit": null,
      "object_position": null,
      "order": null,
      "overflow": null,
      "overflow_x": null,
      "overflow_y": null,
      "padding": null,
      "right": null,
      "top": null,
      "visibility": null,
      "width": null
     }
    },
    "aeb720cb2b594b51ad5cf49c19cf2880": {
     "model_module": "@jupyter-widgets/controls",
     "model_module_version": "1.5.0",
     "model_name": "HTMLModel",
     "state": {
      "_dom_classes": [],
      "_model_module": "@jupyter-widgets/controls",
      "_model_module_version": "1.5.0",
      "_model_name": "HTMLModel",
      "_view_count": null,
      "_view_module": "@jupyter-widgets/controls",
      "_view_module_version": "1.5.0",
      "_view_name": "HTMLView",
      "description": "",
      "description_tooltip": null,
      "layout": "IPY_MODEL_58f812d815c24642988a7fc34036db07",
      "placeholder": "​",
      "style": "IPY_MODEL_186778bb744a4a1a96f5b412e2f46f59",
      "value": "config.json: 100%"
     }
    },
    "b2d6644680c349718a1b9e47725ff3fa": {
     "model_module": "@jupyter-widgets/controls",
     "model_module_version": "1.5.0",
     "model_name": "FloatProgressModel",
     "state": {
      "_dom_classes": [],
      "_model_module": "@jupyter-widgets/controls",
      "_model_module_version": "1.5.0",
      "_model_name": "FloatProgressModel",
      "_view_count": null,
      "_view_module": "@jupyter-widgets/controls",
      "_view_module_version": "1.5.0",
      "_view_name": "ProgressView",
      "bar_style": "success",
      "description": "",
      "description_tooltip": null,
      "layout": "IPY_MODEL_2095a10bd97144bd91c3d1500a9a5525",
      "max": 1355863,
      "min": 0,
      "orientation": "horizontal",
      "style": "IPY_MODEL_ffd9aa950f4348f293b6e75fa15257ac",
      "value": 1355863
     }
    },
    "b4184fbbe14c44ecbcf6d55508248bc1": {
     "model_module": "@jupyter-widgets/controls",
     "model_module_version": "1.5.0",
     "model_name": "FloatProgressModel",
     "state": {
      "_dom_classes": [],
      "_model_module": "@jupyter-widgets/controls",
      "_model_module_version": "1.5.0",
      "_model_name": "FloatProgressModel",
      "_view_count": null,
      "_view_module": "@jupyter-widgets/controls",
      "_view_module_version": "1.5.0",
      "_view_name": "ProgressView",
      "bar_style": "success",
      "description": "",
      "description_tooltip": null,
      "layout": "IPY_MODEL_053a50d4118b4bff8ae9af1640f1d998",
      "max": 898823,
      "min": 0,
      "orientation": "horizontal",
      "style": "IPY_MODEL_77f298bcb3e046e19d5ef542e2e510ba",
      "value": 898823
     }
    },
    "b5cb9a9960664d90815d60c3749d528e": {
     "model_module": "@jupyter-widgets/base",
     "model_module_version": "1.2.0",
     "model_name": "LayoutModel",
     "state": {
      "_model_module": "@jupyter-widgets/base",
      "_model_module_version": "1.2.0",
      "_model_name": "LayoutModel",
      "_view_count": null,
      "_view_module": "@jupyter-widgets/base",
      "_view_module_version": "1.2.0",
      "_view_name": "LayoutView",
      "align_content": null,
      "align_items": null,
      "align_self": null,
      "border": null,
      "bottom": null,
      "display": null,
      "flex": null,
      "flex_flow": null,
      "grid_area": null,
      "grid_auto_columns": null,
      "grid_auto_flow": null,
      "grid_auto_rows": null,
      "grid_column": null,
      "grid_gap": null,
      "grid_row": null,
      "grid_template_areas": null,
      "grid_template_columns": null,
      "grid_template_rows": null,
      "height": null,
      "justify_content": null,
      "justify_items": null,
      "left": null,
      "margin": null,
      "max_height": null,
      "max_width": null,
      "min_height": null,
      "min_width": null,
      "object_fit": null,
      "object_position": null,
      "order": null,
      "overflow": null,
      "overflow_x": null,
      "overflow_y": null,
      "padding": null,
      "right": null,
      "top": null,
      "visibility": null,
      "width": null
     }
    },
    "bd04e353c6ad4169965647cdec886e79": {
     "model_module": "@jupyter-widgets/controls",
     "model_module_version": "1.5.0",
     "model_name": "HBoxModel",
     "state": {
      "_dom_classes": [],
      "_model_module": "@jupyter-widgets/controls",
      "_model_module_version": "1.5.0",
      "_model_name": "HBoxModel",
      "_view_count": null,
      "_view_module": "@jupyter-widgets/controls",
      "_view_module_version": "1.5.0",
      "_view_name": "HBoxView",
      "box_style": "",
      "children": [
       "IPY_MODEL_2aef14d703324477ba5336b24d996d3f",
       "IPY_MODEL_0dffa734cebd4889b6dcbafeac9d4183",
       "IPY_MODEL_5381f3d320594186a220b2e2b298e593"
      ],
      "layout": "IPY_MODEL_8a157556b7d54fe19424adc3e6a0c5c0"
     }
    },
    "c2c231b29afb430e9a89ac32b8234062": {
     "model_module": "@jupyter-widgets/controls",
     "model_module_version": "1.5.0",
     "model_name": "HTMLModel",
     "state": {
      "_dom_classes": [],
      "_model_module": "@jupyter-widgets/controls",
      "_model_module_version": "1.5.0",
      "_model_name": "HTMLModel",
      "_view_count": null,
      "_view_module": "@jupyter-widgets/controls",
      "_view_module_version": "1.5.0",
      "_view_name": "HTMLView",
      "description": "",
      "description_tooltip": null,
      "layout": "IPY_MODEL_420c19b9fcff4ecf94f751d983dfdc88",
      "placeholder": "​",
      "style": "IPY_MODEL_f003f396d29649b6928641cdbc7c9fcf",
      "value": "merges.txt: 100%"
     }
    },
    "c7610a1e46d64723b08e5ed5c574be42": {
     "model_module": "@jupyter-widgets/controls",
     "model_module_version": "1.5.0",
     "model_name": "HTMLModel",
     "state": {
      "_dom_classes": [],
      "_model_module": "@jupyter-widgets/controls",
      "_model_module_version": "1.5.0",
      "_model_name": "HTMLModel",
      "_view_count": null,
      "_view_module": "@jupyter-widgets/controls",
      "_view_module_version": "1.5.0",
      "_view_name": "HTMLView",
      "description": "",
      "description_tooltip": null,
      "layout": "IPY_MODEL_63a23b3f647643209c755d30714fa60a",
      "placeholder": "​",
      "style": "IPY_MODEL_1161e8b4d7664efe8c8485ea7d776ced",
      "value": "model.safetensors: 100%"
     }
    },
    "c8b5458bf3264127a24f335d91893794": {
     "model_module": "@jupyter-widgets/base",
     "model_module_version": "1.2.0",
     "model_name": "LayoutModel",
     "state": {
      "_model_module": "@jupyter-widgets/base",
      "_model_module_version": "1.2.0",
      "_model_name": "LayoutModel",
      "_view_count": null,
      "_view_module": "@jupyter-widgets/base",
      "_view_module_version": "1.2.0",
      "_view_name": "LayoutView",
      "align_content": null,
      "align_items": null,
      "align_self": null,
      "border": null,
      "bottom": null,
      "display": null,
      "flex": null,
      "flex_flow": null,
      "grid_area": null,
      "grid_auto_columns": null,
      "grid_auto_flow": null,
      "grid_auto_rows": null,
      "grid_column": null,
      "grid_gap": null,
      "grid_row": null,
      "grid_template_areas": null,
      "grid_template_columns": null,
      "grid_template_rows": null,
      "height": null,
      "justify_content": null,
      "justify_items": null,
      "left": null,
      "margin": null,
      "max_height": null,
      "max_width": null,
      "min_height": null,
      "min_width": null,
      "object_fit": null,
      "object_position": null,
      "order": null,
      "overflow": null,
      "overflow_x": null,
      "overflow_y": null,
      "padding": null,
      "right": null,
      "top": null,
      "visibility": null,
      "width": null
     }
    },
    "cbc82931a1044c0f9fdeace96b10cdf3": {
     "model_module": "@jupyter-widgets/controls",
     "model_module_version": "1.5.0",
     "model_name": "DescriptionStyleModel",
     "state": {
      "_model_module": "@jupyter-widgets/controls",
      "_model_module_version": "1.5.0",
      "_model_name": "DescriptionStyleModel",
      "_view_count": null,
      "_view_module": "@jupyter-widgets/base",
      "_view_module_version": "1.2.0",
      "_view_name": "StyleView",
      "description_width": ""
     }
    },
    "cf5d8f6b271840448c67149d20a53b99": {
     "model_module": "@jupyter-widgets/controls",
     "model_module_version": "1.5.0",
     "model_name": "HTMLModel",
     "state": {
      "_dom_classes": [],
      "_model_module": "@jupyter-widgets/controls",
      "_model_module_version": "1.5.0",
      "_model_name": "HTMLModel",
      "_view_count": null,
      "_view_module": "@jupyter-widgets/controls",
      "_view_module_version": "1.5.0",
      "_view_name": "HTMLView",
      "description": "",
      "description_tooltip": null,
      "layout": "IPY_MODEL_66e8232ec56f40e1a9ac4964e1bb4549",
      "placeholder": "​",
      "style": "IPY_MODEL_3abb72127b2543d0865c612c1bd86c41",
      "value": " 1.36M/1.36M [00:00&lt;00:00, 21.2MB/s]"
     }
    },
    "d04021863d264ea4baa72ec37f0898fb": {
     "model_module": "@jupyter-widgets/controls",
     "model_module_version": "1.5.0",
     "model_name": "DescriptionStyleModel",
     "state": {
      "_model_module": "@jupyter-widgets/controls",
      "_model_module_version": "1.5.0",
      "_model_name": "DescriptionStyleModel",
      "_view_count": null,
      "_view_module": "@jupyter-widgets/base",
      "_view_module_version": "1.2.0",
      "_view_name": "StyleView",
      "description_width": ""
     }
    },
    "d203034c68204f66b5ebbc91b6019327": {
     "model_module": "@jupyter-widgets/base",
     "model_module_version": "1.2.0",
     "model_name": "LayoutModel",
     "state": {
      "_model_module": "@jupyter-widgets/base",
      "_model_module_version": "1.2.0",
      "_model_name": "LayoutModel",
      "_view_count": null,
      "_view_module": "@jupyter-widgets/base",
      "_view_module_version": "1.2.0",
      "_view_name": "LayoutView",
      "align_content": null,
      "align_items": null,
      "align_self": null,
      "border": null,
      "bottom": null,
      "display": null,
      "flex": null,
      "flex_flow": null,
      "grid_area": null,
      "grid_auto_columns": null,
      "grid_auto_flow": null,
      "grid_auto_rows": null,
      "grid_column": null,
      "grid_gap": null,
      "grid_row": null,
      "grid_template_areas": null,
      "grid_template_columns": null,
      "grid_template_rows": null,
      "height": null,
      "justify_content": null,
      "justify_items": null,
      "left": null,
      "margin": null,
      "max_height": null,
      "max_width": null,
      "min_height": null,
      "min_width": null,
      "object_fit": null,
      "object_position": null,
      "order": null,
      "overflow": null,
      "overflow_x": null,
      "overflow_y": null,
      "padding": null,
      "right": null,
      "top": null,
      "visibility": null,
      "width": null
     }
    },
    "d5ecb81b339d4fb8aa5b01b6127eea83": {
     "model_module": "@jupyter-widgets/controls",
     "model_module_version": "1.5.0",
     "model_name": "HTMLModel",
     "state": {
      "_dom_classes": [],
      "_model_module": "@jupyter-widgets/controls",
      "_model_module_version": "1.5.0",
      "_model_name": "HTMLModel",
      "_view_count": null,
      "_view_module": "@jupyter-widgets/controls",
      "_view_module_version": "1.5.0",
      "_view_name": "HTMLView",
      "description": "",
      "description_tooltip": null,
      "layout": "IPY_MODEL_7744e7e846844c6ba3ee5ea99082aa22",
      "placeholder": "​",
      "style": "IPY_MODEL_d91ebe0a0ff44d7da3274c4a95437dbf",
      "value": " 1.72k/1.72k [00:00&lt;00:00, 31.0kB/s]"
     }
    },
    "d91ebe0a0ff44d7da3274c4a95437dbf": {
     "model_module": "@jupyter-widgets/controls",
     "model_module_version": "1.5.0",
     "model_name": "DescriptionStyleModel",
     "state": {
      "_model_module": "@jupyter-widgets/controls",
      "_model_module_version": "1.5.0",
      "_model_name": "DescriptionStyleModel",
      "_view_count": null,
      "_view_module": "@jupyter-widgets/base",
      "_view_module_version": "1.2.0",
      "_view_name": "StyleView",
      "description_width": ""
     }
    },
    "ddd65a69bb5e4c5c8278161bc37276df": {
     "model_module": "@jupyter-widgets/controls",
     "model_module_version": "1.5.0",
     "model_name": "HTMLModel",
     "state": {
      "_dom_classes": [],
      "_model_module": "@jupyter-widgets/controls",
      "_model_module_version": "1.5.0",
      "_model_name": "HTMLModel",
      "_view_count": null,
      "_view_module": "@jupyter-widgets/controls",
      "_view_module_version": "1.5.0",
      "_view_name": "HTMLView",
      "description": "",
      "description_tooltip": null,
      "layout": "IPY_MODEL_5c5e7195bbdf4b0fb9934f707809a278",
      "placeholder": "​",
      "style": "IPY_MODEL_6b351dc1acdf42e99b5a2f5e7156a272",
      "value": " 558M/558M [00:01&lt;00:00, 322MB/s]"
     }
    },
    "eec139cdca484ce890d8a573e695bbef": {
     "model_module": "@jupyter-widgets/controls",
     "model_module_version": "1.5.0",
     "model_name": "HTMLModel",
     "state": {
      "_dom_classes": [],
      "_model_module": "@jupyter-widgets/controls",
      "_model_module_version": "1.5.0",
      "_model_name": "HTMLModel",
      "_view_count": null,
      "_view_module": "@jupyter-widgets/controls",
      "_view_module_version": "1.5.0",
      "_view_name": "HTMLView",
      "description": "",
      "description_tooltip": null,
      "layout": "IPY_MODEL_b5cb9a9960664d90815d60c3749d528e",
      "placeholder": "​",
      "style": "IPY_MODEL_2bddbf8e7dc54495a86f24d8065898d1",
      "value": " 456k/456k [00:00&lt;00:00, 9.12MB/s]"
     }
    },
    "efd260632efa42898cdde81ace74c2dc": {
     "model_module": "@jupyter-widgets/controls",
     "model_module_version": "1.5.0",
     "model_name": "ProgressStyleModel",
     "state": {
      "_model_module": "@jupyter-widgets/controls",
      "_model_module_version": "1.5.0",
      "_model_name": "ProgressStyleModel",
      "_view_count": null,
      "_view_module": "@jupyter-widgets/base",
      "_view_module_version": "1.2.0",
      "_view_name": "StyleView",
      "bar_color": null,
      "description_width": ""
     }
    },
    "f003f396d29649b6928641cdbc7c9fcf": {
     "model_module": "@jupyter-widgets/controls",
     "model_module_version": "1.5.0",
     "model_name": "DescriptionStyleModel",
     "state": {
      "_model_module": "@jupyter-widgets/controls",
      "_model_module_version": "1.5.0",
      "_model_name": "DescriptionStyleModel",
      "_view_count": null,
      "_view_module": "@jupyter-widgets/base",
      "_view_module_version": "1.2.0",
      "_view_name": "StyleView",
      "description_width": ""
     }
    },
    "f507bd78e5534521927e600ef1400384": {
     "model_module": "@jupyter-widgets/controls",
     "model_module_version": "1.5.0",
     "model_name": "ProgressStyleModel",
     "state": {
      "_model_module": "@jupyter-widgets/controls",
      "_model_module_version": "1.5.0",
      "_model_name": "ProgressStyleModel",
      "_view_count": null,
      "_view_module": "@jupyter-widgets/base",
      "_view_module_version": "1.2.0",
      "_view_name": "StyleView",
      "bar_color": null,
      "description_width": ""
     }
    },
    "f682f48e0a73469a9aa8b0b25fcfffb5": {
     "model_module": "@jupyter-widgets/base",
     "model_module_version": "1.2.0",
     "model_name": "LayoutModel",
     "state": {
      "_model_module": "@jupyter-widgets/base",
      "_model_module_version": "1.2.0",
      "_model_name": "LayoutModel",
      "_view_count": null,
      "_view_module": "@jupyter-widgets/base",
      "_view_module_version": "1.2.0",
      "_view_name": "LayoutView",
      "align_content": null,
      "align_items": null,
      "align_self": null,
      "border": null,
      "bottom": null,
      "display": null,
      "flex": null,
      "flex_flow": null,
      "grid_area": null,
      "grid_auto_columns": null,
      "grid_auto_flow": null,
      "grid_auto_rows": null,
      "grid_column": null,
      "grid_gap": null,
      "grid_row": null,
      "grid_template_areas": null,
      "grid_template_columns": null,
      "grid_template_rows": null,
      "height": null,
      "justify_content": null,
      "justify_items": null,
      "left": null,
      "margin": null,
      "max_height": null,
      "max_width": null,
      "min_height": null,
      "min_width": null,
      "object_fit": null,
      "object_position": null,
      "order": null,
      "overflow": null,
      "overflow_x": null,
      "overflow_y": null,
      "padding": null,
      "right": null,
      "top": null,
      "visibility": null,
      "width": null
     }
    },
    "f6911902899c4a05ab1315687cc2558c": {
     "model_module": "@jupyter-widgets/controls",
     "model_module_version": "1.5.0",
     "model_name": "HBoxModel",
     "state": {
      "_dom_classes": [],
      "_model_module": "@jupyter-widgets/controls",
      "_model_module_version": "1.5.0",
      "_model_name": "HBoxModel",
      "_view_count": null,
      "_view_module": "@jupyter-widgets/controls",
      "_view_module_version": "1.5.0",
      "_view_name": "HBoxView",
      "box_style": "",
      "children": [
       "IPY_MODEL_3ffa22d1ea304beab143c9ed64caadf8",
       "IPY_MODEL_430e4c4f8e2c4849a7c24b149a1ed137",
       "IPY_MODEL_7f8e7a9a1f64462389668103c785d15c"
      ],
      "layout": "IPY_MODEL_99e25d1a2a1e42cf8a3475c2fcbfb900"
     }
    },
    "f8fb37262c7f403999407eaf1dc2d9d9": {
     "model_module": "@jupyter-widgets/base",
     "model_module_version": "1.2.0",
     "model_name": "LayoutModel",
     "state": {
      "_model_module": "@jupyter-widgets/base",
      "_model_module_version": "1.2.0",
      "_model_name": "LayoutModel",
      "_view_count": null,
      "_view_module": "@jupyter-widgets/base",
      "_view_module_version": "1.2.0",
      "_view_name": "LayoutView",
      "align_content": null,
      "align_items": null,
      "align_self": null,
      "border": null,
      "bottom": null,
      "display": null,
      "flex": null,
      "flex_flow": null,
      "grid_area": null,
      "grid_auto_columns": null,
      "grid_auto_flow": null,
      "grid_auto_rows": null,
      "grid_column": null,
      "grid_gap": null,
      "grid_row": null,
      "grid_template_areas": null,
      "grid_template_columns": null,
      "grid_template_rows": null,
      "height": null,
      "justify_content": null,
      "justify_items": null,
      "left": null,
      "margin": null,
      "max_height": null,
      "max_width": null,
      "min_height": null,
      "min_width": null,
      "object_fit": null,
      "object_position": null,
      "order": null,
      "overflow": null,
      "overflow_x": null,
      "overflow_y": null,
      "padding": null,
      "right": null,
      "top": null,
      "visibility": null,
      "width": null
     }
    },
    "fa6b2fcc180b4e7b8d45b31089fd2a3e": {
     "model_module": "@jupyter-widgets/controls",
     "model_module_version": "1.5.0",
     "model_name": "HBoxModel",
     "state": {
      "_dom_classes": [],
      "_model_module": "@jupyter-widgets/controls",
      "_model_module_version": "1.5.0",
      "_model_name": "HBoxModel",
      "_view_count": null,
      "_view_module": "@jupyter-widgets/controls",
      "_view_module_version": "1.5.0",
      "_view_name": "HBoxView",
      "box_style": "",
      "children": [
       "IPY_MODEL_c2c231b29afb430e9a89ac32b8234062",
       "IPY_MODEL_94cbb2cf029448c0b950fd0d517ed538",
       "IPY_MODEL_eec139cdca484ce890d8a573e695bbef"
      ],
      "layout": "IPY_MODEL_1861063b57b046a4bba50415a35eec18"
     }
    },
    "ffd9aa950f4348f293b6e75fa15257ac": {
     "model_module": "@jupyter-widgets/controls",
     "model_module_version": "1.5.0",
     "model_name": "ProgressStyleModel",
     "state": {
      "_model_module": "@jupyter-widgets/controls",
      "_model_module_version": "1.5.0",
      "_model_name": "ProgressStyleModel",
      "_view_count": null,
      "_view_module": "@jupyter-widgets/base",
      "_view_module_version": "1.2.0",
      "_view_name": "StyleView",
      "bar_color": null,
      "description_width": ""
     }
    }
   }
  }
 },
 "nbformat": 4,
 "nbformat_minor": 4
}
